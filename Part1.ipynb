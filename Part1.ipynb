{
 "cells": [
  {
   "cell_type": "markdown",
   "metadata": {
    "nbpresent": {
     "id": "f03cff31-83e1-4954-9b8e-7b22ffe5e08a"
    }
   },
   "source": [
    "# Sentiment Analysis P1\n",
    "\n",
    "In this notebook, you will learn how to use different packages in Python to build a complete pipeline for solving sentiment analysis problem. We will be using the simplest model, Mutinomial NB, in this class."
   ]
  },
  {
   "cell_type": "markdown",
   "metadata": {
    "nbpresent": {
     "id": "dadf36f5-94ca-4ad6-82e5-eee766bbe079"
    }
   },
   "source": [
    "## Pipeline"
   ]
  },
  {
   "cell_type": "markdown",
   "metadata": {
    "nbpresent": {
     "id": "e28f0511-3ad7-4f7b-a9c2-7667d0f738d3"
    }
   },
   "source": [
    "<img src=\"resources/pipeline.png\">"
   ]
  },
  {
   "cell_type": "markdown",
   "metadata": {
    "nbpresent": {
     "id": "4993d77d-4107-4ee2-b456-537ad84b6927"
    }
   },
   "source": [
    "## Get familiar with dataset"
   ]
  },
  {
   "cell_type": "code",
   "execution_count": 2,
   "metadata": {
    "ExecuteTime": {
     "end_time": "2022-08-24T16:59:10.538998Z",
     "start_time": "2022-08-24T16:59:09.561320Z"
    },
    "nbpresent": {
     "id": "bafb6e90-d675-4161-ab5d-23c386f8762d"
    }
   },
   "outputs": [],
   "source": [
    "import numpy as np\n",
    "import matplotlib.pyplot as plt\n",
    "import pandas as pd\n",
    "from nlp_proj_utils import get_imdb_dataset\n",
    "import sklearn as sk\n",
    "\n",
    "\n",
    "pd.set_option('max_colwidth', 500)  # Set display column width to show more content"
   ]
  },
  {
   "cell_type": "code",
   "execution_count": 8,
   "metadata": {
    "ExecuteTime": {
     "end_time": "2022-08-24T16:59:50.635691Z",
     "start_time": "2022-08-24T16:59:50.016972Z"
    }
   },
   "outputs": [
    {
     "name": "stdout",
     "output_type": "stream",
     "text": [
      "data already available, skip downloading.\n",
      "imdb loaded successfully.\n"
     ]
    }
   ],
   "source": [
    "# Load dataset, download if necessary\n",
    "train, test = get_imdb_dataset()"
   ]
  },
  {
   "cell_type": "code",
   "execution_count": 7,
   "metadata": {
    "ExecuteTime": {
     "end_time": "2022-08-23T18:42:09.352070Z",
     "start_time": "2022-08-23T18:42:09.339185Z"
    }
   },
   "outputs": [
    {
     "data": {
      "text/plain": [
       "pandas.core.frame.DataFrame"
      ]
     },
     "execution_count": 7,
     "metadata": {},
     "output_type": "execute_result"
    }
   ],
   "source": [
    "type(train)"
   ]
  },
  {
   "cell_type": "code",
   "execution_count": 8,
   "metadata": {
    "ExecuteTime": {
     "end_time": "2022-08-23T18:42:12.417876Z",
     "start_time": "2022-08-23T18:42:12.390531Z"
    }
   },
   "outputs": [
    {
     "data": {
      "text/html": [
       "<div>\n",
       "<style scoped>\n",
       "    .dataframe tbody tr th:only-of-type {\n",
       "        vertical-align: middle;\n",
       "    }\n",
       "\n",
       "    .dataframe tbody tr th {\n",
       "        vertical-align: top;\n",
       "    }\n",
       "\n",
       "    .dataframe thead th {\n",
       "        text-align: right;\n",
       "    }\n",
       "</style>\n",
       "<table border=\"1\" class=\"dataframe\">\n",
       "  <thead>\n",
       "    <tr style=\"text-align: right;\">\n",
       "      <th></th>\n",
       "      <th>text</th>\n",
       "      <th>sentiment</th>\n",
       "    </tr>\n",
       "  </thead>\n",
       "  <tbody>\n",
       "    <tr>\n",
       "      <th>12724</th>\n",
       "      <td>Many of the lead characters in Hideo Gosha's 1969 film \"Hitokiri\" (manslayer; aka \"Tenchu\" -- heaven's punishment) were actual historical figures (in \"western\" name-order format): Ryoma Sakamoto, Hampeita Takechi, Shimbei Tanaka, Izo Okada, ____ Anenokoji. The name \"Hitokiri,\" a historical term, refers to a group of four super-swordsmen who carried out numerous assassinations of key figures in the ruling Tokugawa Shogunate in the mid-1800s under the orders of Takechi, the leader of the \"Loya...</td>\n",
       "      <td>neg</td>\n",
       "    </tr>\n",
       "    <tr>\n",
       "      <th>13740</th>\n",
       "      <td>Personally I think this show looks pretty cheaply made. Some of the actors are terrible. They over do it &amp; seem fake. I can always tell how it's going to end within the first 10 minutes or less of watching because they make it so transparently clear. It's not very well written either. I love to watch it to laugh at it. You know the saying \"It's so bad that it's good?\" Well, that saying applies to this show. I also like to watch just to see if I'm right when I guess how it's all going to end....</td>\n",
       "      <td>neg</td>\n",
       "    </tr>\n",
       "    <tr>\n",
       "      <th>23352</th>\n",
       "      <td>I don't know what it is about this movie- director Sam Mraovich somehow messed up just about every little aspect in this movie. I would normally say that this is a movie that should not exist, but this movie may be the most important of all time. This movie should exist for the sole purpose of being without a doubt 'The Worst Movie Ever Made'. I've seen bad movies in my lifetime, but this somehow breaks what I considered bad into something much more hard to imagine.&lt;br /&gt;&lt;br /&gt;Everything in ...</td>\n",
       "      <td>neg</td>\n",
       "    </tr>\n",
       "    <tr>\n",
       "      <th>10892</th>\n",
       "      <td>Morgan Freeman and Paz Vega are the mismatched pair who get in the car and go about doing errands according to the need of one or the other. Morgan Freeman is superbly human, relating with one and all, while Paz Vega is the edgy cashier behind the \"10 Items or Less\" check out line, intimidating customers and bored out of her mind. Together they explore, discover, and learn from each other. To do that of course they must be vulnerable, interested in change, and have a sense of humour, all of ...</td>\n",
       "      <td>pos</td>\n",
       "    </tr>\n",
       "    <tr>\n",
       "      <th>24057</th>\n",
       "      <td>Somehow they summed up the 60's, ten years that radically changed our country, in four hours. And what a painful four hours it was. They trivilized the major events and happenings and they \"claimed\" it was about two families yet you barely saw the african-american family. If I were NBC I would be ashamed and embarrassed for airing such trash. What was amusing was this happy-go-lucky family you saw in the very beginning was tortured in so many ways, but managed to attend every major 60's even...</td>\n",
       "      <td>neg</td>\n",
       "    </tr>\n",
       "  </tbody>\n",
       "</table>\n",
       "</div>"
      ],
      "text/plain": [
       "                                                                                                                                                                                                                                                                                                                                                                                                                                                                                                                      text  \\\n",
       "12724  Many of the lead characters in Hideo Gosha's 1969 film \"Hitokiri\" (manslayer; aka \"Tenchu\" -- heaven's punishment) were actual historical figures (in \"western\" name-order format): Ryoma Sakamoto, Hampeita Takechi, Shimbei Tanaka, Izo Okada, ____ Anenokoji. The name \"Hitokiri,\" a historical term, refers to a group of four super-swordsmen who carried out numerous assassinations of key figures in the ruling Tokugawa Shogunate in the mid-1800s under the orders of Takechi, the leader of the \"Loya...   \n",
       "13740  Personally I think this show looks pretty cheaply made. Some of the actors are terrible. They over do it & seem fake. I can always tell how it's going to end within the first 10 minutes or less of watching because they make it so transparently clear. It's not very well written either. I love to watch it to laugh at it. You know the saying \"It's so bad that it's good?\" Well, that saying applies to this show. I also like to watch just to see if I'm right when I guess how it's all going to end....   \n",
       "23352  I don't know what it is about this movie- director Sam Mraovich somehow messed up just about every little aspect in this movie. I would normally say that this is a movie that should not exist, but this movie may be the most important of all time. This movie should exist for the sole purpose of being without a doubt 'The Worst Movie Ever Made'. I've seen bad movies in my lifetime, but this somehow breaks what I considered bad into something much more hard to imagine.<br /><br />Everything in ...   \n",
       "10892  Morgan Freeman and Paz Vega are the mismatched pair who get in the car and go about doing errands according to the need of one or the other. Morgan Freeman is superbly human, relating with one and all, while Paz Vega is the edgy cashier behind the \"10 Items or Less\" check out line, intimidating customers and bored out of her mind. Together they explore, discover, and learn from each other. To do that of course they must be vulnerable, interested in change, and have a sense of humour, all of ...   \n",
       "24057  Somehow they summed up the 60's, ten years that radically changed our country, in four hours. And what a painful four hours it was. They trivilized the major events and happenings and they \"claimed\" it was about two families yet you barely saw the african-american family. If I were NBC I would be ashamed and embarrassed for airing such trash. What was amusing was this happy-go-lucky family you saw in the very beginning was tortured in so many ways, but managed to attend every major 60's even...   \n",
       "\n",
       "      sentiment  \n",
       "12724       neg  \n",
       "13740       neg  \n",
       "23352       neg  \n",
       "10892       pos  \n",
       "24057       neg  "
      ]
     },
     "execution_count": 8,
     "metadata": {},
     "output_type": "execute_result"
    }
   ],
   "source": [
    "# Get a sample (head) of the data frame\n",
    "train.sample(5)"
   ]
  },
  {
   "cell_type": "code",
   "execution_count": 9,
   "metadata": {
    "ExecuteTime": {
     "end_time": "2022-08-23T18:42:32.134065Z",
     "start_time": "2022-08-23T18:42:32.126948Z"
    },
    "nbpresent": {
     "id": "490495cc-6ecb-4415-b13c-4cd6ea380b6e"
    }
   },
   "outputs": [
    {
     "name": "stdout",
     "output_type": "stream",
     "text": [
      "train shape: (25000, 2)\n",
      "test  shape: (25000, 2)\n"
     ]
    }
   ],
   "source": [
    "print('train shape:', train.shape)\n",
    "print('test  shape:', test.shape)"
   ]
  },
  {
   "cell_type": "code",
   "execution_count": 10,
   "metadata": {
    "ExecuteTime": {
     "end_time": "2022-08-23T18:42:56.363563Z",
     "start_time": "2022-08-23T18:42:56.345646Z"
    },
    "nbpresent": {
     "id": "8bda0af1-6a24-4cd9-97ec-d4bff3746662"
    }
   },
   "outputs": [
    {
     "data": {
      "text/plain": [
       "pos    12500\n",
       "neg    12500\n",
       "Name: sentiment, dtype: int64"
      ]
     },
     "execution_count": 10,
     "metadata": {},
     "output_type": "execute_result"
    }
   ],
   "source": [
    "# Statics on tags\n",
    "train['sentiment'].value_counts()"
   ]
  },
  {
   "cell_type": "code",
   "execution_count": 11,
   "metadata": {
    "ExecuteTime": {
     "end_time": "2022-08-24T16:14:35.870718Z",
     "start_time": "2022-08-24T16:14:35.848104Z"
    }
   },
   "outputs": [
    {
     "name": "stdout",
     "output_type": "stream",
     "text": [
      "Bizarre horror movie filled with famous faces but stolen by Cristina Raines (later of TV's \"Flamingo Road\") as a pretty but somewhat unstable model with a gummy smile who is slated to pay for her attempted suicides by guarding the Gateway to Hell! The scenes with Raines modeling are very well captured, the mood music is perfect, Deborah Raffin is charming as Cristina's pal, but when Raines moves into a creepy Brooklyn Heights brownstone (inhabited by a blind priest on the top floor), things really start cooking. The neighbors, including a fantastically wicked Burgess Meredith and kinky couple Sylvia Miles & Beverly D'Angelo, are a diabolical lot, and Eli Wallach is great fun as a wily police detective. The movie is nearly a cross-pollination of \"Rosemary's Baby\" and \"The Exorcist\"--but what a combination! Based on the best-seller by Jeffrey Konvitz, \"The Sentinel\" is entertainingly spooky, full of shocks brought off well by director Michael Winner, who mounts a thoughtfully downbeat ending with skill. ***1/2 from ****\n"
     ]
    }
   ],
   "source": [
    "print(train['text'][1])"
   ]
  },
  {
   "cell_type": "markdown",
   "metadata": {
    "nbpresent": {
     "id": "21638fdf-767a-4ccf-9328-fc01542c924e"
    }
   },
   "source": [
    "See [Pandas DataFrame](http://pandas.pydata.org/pandas-docs/stable/10min.html?highlight=data%20frame) for more details."
   ]
  },
  {
   "cell_type": "markdown",
   "metadata": {
    "nbpresent": {
     "id": "e2e6ba14-7fea-4c02-88e9-f87688e70238"
    }
   },
   "source": [
    "## Preprocessing"
   ]
  },
  {
   "cell_type": "markdown",
   "metadata": {},
   "source": [
    "### Tokenization and Normalization\n",
    "\n",
    "For preprocessing, we will apply the following steps:\n",
    "\n",
    "1. Remove HTML tag (`<br />` in this case) from the review text\n",
    "2. Remove punctuations (replace with whitespace)\n",
    "3. Split review text into tokens\n",
    "4. Remove tokens that are considered as \"**stopwords**\"\n",
    "5. For the rest, do lemmatization"
   ]
  },
  {
   "cell_type": "code",
   "execution_count": 3,
   "metadata": {
    "ExecuteTime": {
     "end_time": "2022-08-24T16:59:15.006891Z",
     "start_time": "2022-08-24T16:59:14.563399Z"
    }
   },
   "outputs": [],
   "source": [
    "import nltk\n",
    "import string"
   ]
  },
  {
   "cell_type": "code",
   "execution_count": 13,
   "metadata": {
    "ExecuteTime": {
     "end_time": "2022-08-24T16:20:38.931549Z",
     "start_time": "2022-08-24T16:17:59.258614Z"
    }
   },
   "outputs": [
    {
     "name": "stdout",
     "output_type": "stream",
     "text": [
      "showing info https://raw.githubusercontent.com/nltk/nltk_data/gh-pages/index.xml\n"
     ]
    },
    {
     "data": {
      "text/plain": [
       "True"
      ]
     },
     "execution_count": 13,
     "metadata": {},
     "output_type": "execute_result"
    }
   ],
   "source": [
    "# If this is the first time you use nltk, make sure to download necessary resources and pre-trained models\n",
    "nltk.download()"
   ]
  },
  {
   "cell_type": "code",
   "execution_count": 10,
   "metadata": {
    "ExecuteTime": {
     "end_time": "2022-08-24T17:00:07.849652Z",
     "start_time": "2022-08-24T17:00:07.832249Z"
    },
    "nbpresent": {
     "id": "0300719b-d5df-4b2a-8b30-97eb486dfd08"
    }
   },
   "outputs": [],
   "source": [
    "transtbl = str.maketrans(string.punctuation, ' ' * len(string.punctuation))\n",
    "stopwords = nltk.corpus.stopwords.words('english')\n",
    "lemmatizer = nltk.WordNetLemmatizer()"
   ]
  },
  {
   "cell_type": "code",
   "execution_count": 15,
   "metadata": {
    "ExecuteTime": {
     "end_time": "2022-08-24T16:20:54.005854Z",
     "start_time": "2022-08-24T16:20:53.992888Z"
    },
    "nbpresent": {
     "id": "dd71b757-9090-4aec-874f-3a972cef6b7c"
    }
   },
   "outputs": [
    {
     "data": {
      "text/plain": [
       "['i', 'me', 'my', 'myself', 'we', 'our', 'ours', 'ourselves', 'you', \"you're\"]"
      ]
     },
     "execution_count": 15,
     "metadata": {},
     "output_type": "execute_result"
    }
   ],
   "source": [
    "stopwords[:10]"
   ]
  },
  {
   "cell_type": "code",
   "execution_count": 16,
   "metadata": {
    "ExecuteTime": {
     "end_time": "2022-08-24T16:21:23.634630Z",
     "start_time": "2022-08-24T16:21:23.624629Z"
    },
    "nbpresent": {
     "id": "8f60988b-d40b-421a-9e35-16471359736e"
    }
   },
   "outputs": [
    {
     "data": {
      "text/plain": [
       "'!\"#$%&\\'()*+,-./:;<=>?@[\\\\]^_`{|}~'"
      ]
     },
     "execution_count": 16,
     "metadata": {},
     "output_type": "execute_result"
    }
   ],
   "source": [
    "string.punctuation"
   ]
  },
  {
   "cell_type": "code",
   "execution_count": 17,
   "metadata": {
    "ExecuteTime": {
     "end_time": "2022-08-24T16:21:27.675078Z",
     "start_time": "2022-08-24T16:21:27.667055Z"
    },
    "nbpresent": {
     "id": "c16c7bfa-f53a-4d52-bfab-cc1d4edad5ea"
    }
   },
   "outputs": [
    {
     "data": {
      "text/plain": [
       "'dedef'"
      ]
     },
     "execution_count": 17,
     "metadata": {},
     "output_type": "execute_result"
    }
   ],
   "source": [
    "'ababc'.translate(str.maketrans('abc','def'))"
   ]
  },
  {
   "cell_type": "code",
   "execution_count": 4,
   "metadata": {
    "ExecuteTime": {
     "end_time": "2022-08-24T16:59:18.230618Z",
     "start_time": "2022-08-24T16:59:18.220106Z"
    },
    "nbpresent": {
     "id": "6cf378f3-f9a2-466c-8993-e8b08ae1959a"
    }
   },
   "outputs": [],
   "source": [
    "def preprocessing(line: str) -> str:\n",
    "    \"\"\"\n",
    "    Take a text input and return the preprocessed string.\n",
    "    i.e.: preprocessed tokens concatenated by whitespace\n",
    "    \"\"\"\n",
    "    line = line.replace('<br />', '').translate(transtbl)\n",
    "    # list\n",
    "    tokens = [lemmatizer.lemmatize(t.lower(),'v')\n",
    "              for t in nltk.word_tokenize(line)\n",
    "              if t.lower() not in stopwords]\n",
    "    \n",
    "    return ' '.join(tokens)"
   ]
  },
  {
   "cell_type": "code",
   "execution_count": 19,
   "metadata": {
    "ExecuteTime": {
     "end_time": "2022-08-24T16:56:29.222575Z",
     "start_time": "2022-08-24T16:56:27.973810Z"
    },
    "nbpresent": {
     "id": "a7867dff-ea5b-41c8-94fb-702b34ebdce1"
    }
   },
   "outputs": [
    {
     "data": {
      "text/plain": [
       "'buy several book yesterday really love'"
      ]
     },
     "execution_count": 19,
     "metadata": {},
     "output_type": "execute_result"
    }
   ],
   "source": [
    "test_str = \"I bought several books yesterday<br /> and I really love them!\"\n",
    "preprocessing(test_str)"
   ]
  },
  {
   "cell_type": "code",
   "execution_count": 5,
   "metadata": {
    "ExecuteTime": {
     "end_time": "2022-08-24T16:59:21.028481Z",
     "start_time": "2022-08-24T16:59:21.022705Z"
    }
   },
   "outputs": [],
   "source": [
    "from tqdm.auto import tqdm\n",
    "tqdm.pandas()"
   ]
  },
  {
   "cell_type": "code",
   "execution_count": 23,
   "metadata": {
    "ExecuteTime": {
     "end_time": "2022-08-24T16:58:35.792213Z",
     "start_time": "2022-08-24T16:58:32.777830Z"
    },
    "collapsed": true
   },
   "outputs": [
    {
     "name": "stdout",
     "output_type": "stream",
     "text": [
      "Collecting pandarallel\n",
      "  Using cached pandarallel-1.6.3-py3-none-any.whl\n",
      "Requirement already satisfied: pandas>=1 in /Users/James/opt/anaconda3/lib/python3.9/site-packages (from pandarallel) (1.4.2)\n",
      "Requirement already satisfied: psutil in /Users/James/opt/anaconda3/lib/python3.9/site-packages (from pandarallel) (5.8.0)\n",
      "Collecting dill>=0.3.1\n",
      "  Using cached dill-0.3.5.1-py2.py3-none-any.whl (95 kB)\n",
      "Requirement already satisfied: python-dateutil>=2.8.1 in /Users/James/opt/anaconda3/lib/python3.9/site-packages (from pandas>=1->pandarallel) (2.8.2)\n",
      "Requirement already satisfied: pytz>=2020.1 in /Users/James/opt/anaconda3/lib/python3.9/site-packages (from pandas>=1->pandarallel) (2022.1)\n",
      "Requirement already satisfied: numpy>=1.18.5 in /Users/James/opt/anaconda3/lib/python3.9/site-packages (from pandas>=1->pandarallel) (1.21.5)\n",
      "Requirement already satisfied: six>=1.5 in /Users/James/opt/anaconda3/lib/python3.9/site-packages (from python-dateutil>=2.8.1->pandas>=1->pandarallel) (1.16.0)\n",
      "Installing collected packages: dill, pandarallel\n",
      "Successfully installed dill-0.3.5.1 pandarallel-1.6.3\n",
      "Note: you may need to restart the kernel to use updated packages.\n"
     ]
    }
   ],
   "source": [
    "pip install pandarallel"
   ]
  },
  {
   "cell_type": "code",
   "execution_count": 6,
   "metadata": {
    "ExecuteTime": {
     "end_time": "2022-08-24T16:59:23.722858Z",
     "start_time": "2022-08-24T16:59:23.667345Z"
    }
   },
   "outputs": [
    {
     "name": "stdout",
     "output_type": "stream",
     "text": [
      "INFO: Pandarallel will run on 8 workers.\n",
      "INFO: Pandarallel will use standard multiprocessing data transfer (pipe) to transfer data between the main process and workers.\n"
     ]
    }
   ],
   "source": [
    "from pandarallel import pandarallel\n",
    "pandarallel.initialize(progress_bar=True)"
   ]
  },
  {
   "cell_type": "code",
   "execution_count": null,
   "metadata": {},
   "outputs": [],
   "source": [
    "# If you're using macOS and Linux, you may run un-comment the following code to speed up the preprocessing\n",
    "\n",
    "# !pip install pandarallel\n",
    "# from pandarallel import pandarallel\n",
    "# pandarallel.initialize(progress_bar=True)"
   ]
  },
  {
   "cell_type": "code",
   "execution_count": 12,
   "metadata": {
    "ExecuteTime": {
     "end_time": "2022-08-24T17:01:00.070586Z",
     "start_time": "2022-08-24T17:00:46.408582Z"
    }
   },
   "outputs": [
    {
     "data": {
      "application/vnd.jupyter.widget-view+json": {
       "model_id": "e3f33473b25342049e081d674970e7a1",
       "version_major": 2,
       "version_minor": 0
      },
      "text/plain": [
       "VBox(children=(HBox(children=(IntProgress(value=0, description='0.00%', max=3125), Label(value='0 / 3125'))), …"
      ]
     },
     "metadata": {},
     "output_type": "display_data"
    },
    {
     "data": {
      "application/vnd.jupyter.widget-view+json": {
       "model_id": "0c7e2cdc1bd443188d393e6197faee9f",
       "version_major": 2,
       "version_minor": 0
      },
      "text/plain": [
       "VBox(children=(HBox(children=(IntProgress(value=0, description='0.00%', max=3125), Label(value='0 / 3125'))), …"
      ]
     },
     "metadata": {},
     "output_type": "display_data"
    }
   ],
   "source": [
    "# If you're using Windows, run the following, otherwise, comment this out, and run the second statement instead\n",
    "#for df in train, test:\n",
    "#    df['text_prep'] = df['text'].progress_apply(preprocessing)\n",
    "    \n",
    "# If you're using macOS or Linux, un-comment and run the following code\n",
    "for df in train, test:\n",
    "     df['text_prep'] = df['text'].parallel_apply(preprocessing)"
   ]
  },
  {
   "cell_type": "code",
   "execution_count": 13,
   "metadata": {
    "ExecuteTime": {
     "end_time": "2022-08-24T17:01:18.089253Z",
     "start_time": "2022-08-24T17:01:18.081004Z"
    }
   },
   "outputs": [],
   "source": [
    "assert train.shape == (25000, 3)\n",
    "assert test.shape == (25000, 3)"
   ]
  },
  {
   "cell_type": "code",
   "execution_count": 14,
   "metadata": {
    "ExecuteTime": {
     "end_time": "2022-08-24T17:01:20.183551Z",
     "start_time": "2022-08-24T17:01:20.126893Z"
    }
   },
   "outputs": [
    {
     "data": {
      "text/html": [
       "<div>\n",
       "<style scoped>\n",
       "    .dataframe tbody tr th:only-of-type {\n",
       "        vertical-align: middle;\n",
       "    }\n",
       "\n",
       "    .dataframe tbody tr th {\n",
       "        vertical-align: top;\n",
       "    }\n",
       "\n",
       "    .dataframe thead th {\n",
       "        text-align: right;\n",
       "    }\n",
       "</style>\n",
       "<table border=\"1\" class=\"dataframe\">\n",
       "  <thead>\n",
       "    <tr style=\"text-align: right;\">\n",
       "      <th></th>\n",
       "      <th>text</th>\n",
       "      <th>sentiment</th>\n",
       "      <th>text_prep</th>\n",
       "    </tr>\n",
       "  </thead>\n",
       "  <tbody>\n",
       "    <tr>\n",
       "      <th>10123</th>\n",
       "      <td>I haven't seen all of Jess Franco's movies, I have seen 5, I think, and there are more than 180 of them. So maybe it's a bit early to say so but \"Necronomicon Geträumte Sünden\" (better known as 'Succubus', but that is the cut version) is according to me if not the best, certainly on of Franco's best. Franco is best known (although 'known' might be slightly exaggerated) for \"Vampiros Lesbos\", a weird cultish movie that got more acclaim in the mid 90's when people found out Jess Franco was als...</td>\n",
       "      <td>pos</td>\n",
       "      <td>see jess franco movies see 5 think 180 maybe bite early say necronomicon geträumte sünden better know succubus cut version accord best certainly franco best franco best know although know might slightly exaggerate vampiros lesbos weird cultish movie get acclaim mid 90 people find jess franco also interest composer soundtrack happy discover man find expect see video clip lion cucumber vampyros lesbos ost jess franco overwhelm director phone ring vampiros let ring want see movie since moment f...</td>\n",
       "    </tr>\n",
       "    <tr>\n",
       "      <th>18479</th>\n",
       "      <td>wow, the Naked Brothers Band. What should i say. I guess i can say this show just sucks. number one: they have no talent, they probably can't even play the instruments. number 2: on the commercial it said they were famous but nobody even heard of them till there crappy show came on. Look, i really don't hate it that bad, i'd give it like a 4 out of 10, but what annoys me is how everyone says they have such great talent and Nat is SO deep and writes deep lyrics. Deep my ass! he talks about ha...</td>\n",
       "      <td>neg</td>\n",
       "      <td>wow naked brothers band say guess say show suck number one talent probably even play instrument number 2 commercial say famous nobody even hear till crappy show come look really hate bad give like 4 10 annoy everyone say great talent nat deep write deep lyric deep ass talk hardcore wrestlers inner feel wow could read say wall bathroom would deep get famous parent famous celebrities want kid make bad show feel cancel soon</td>\n",
       "    </tr>\n",
       "  </tbody>\n",
       "</table>\n",
       "</div>"
      ],
      "text/plain": [
       "                                                                                                                                                                                                                                                                                                                                                                                                                                                                                                                      text  \\\n",
       "10123  I haven't seen all of Jess Franco's movies, I have seen 5, I think, and there are more than 180 of them. So maybe it's a bit early to say so but \"Necronomicon Geträumte Sünden\" (better known as 'Succubus', but that is the cut version) is according to me if not the best, certainly on of Franco's best. Franco is best known (although 'known' might be slightly exaggerated) for \"Vampiros Lesbos\", a weird cultish movie that got more acclaim in the mid 90's when people found out Jess Franco was als...   \n",
       "18479  wow, the Naked Brothers Band. What should i say. I guess i can say this show just sucks. number one: they have no talent, they probably can't even play the instruments. number 2: on the commercial it said they were famous but nobody even heard of them till there crappy show came on. Look, i really don't hate it that bad, i'd give it like a 4 out of 10, but what annoys me is how everyone says they have such great talent and Nat is SO deep and writes deep lyrics. Deep my ass! he talks about ha...   \n",
       "\n",
       "      sentiment  \\\n",
       "10123       pos   \n",
       "18479       neg   \n",
       "\n",
       "                                                                                                                                                                                                                                                                                                                                                                                                                                                                                                                 text_prep  \n",
       "10123  see jess franco movies see 5 think 180 maybe bite early say necronomicon geträumte sünden better know succubus cut version accord best certainly franco best franco best know although know might slightly exaggerate vampiros lesbos weird cultish movie get acclaim mid 90 people find jess franco also interest composer soundtrack happy discover man find expect see video clip lion cucumber vampyros lesbos ost jess franco overwhelm director phone ring vampiros let ring want see movie since moment f...  \n",
       "18479                                                                             wow naked brothers band say guess say show suck number one talent probably even play instrument number 2 commercial say famous nobody even hear till crappy show come look really hate bad give like 4 10 annoy everyone say great talent nat deep write deep lyric deep ass talk hardcore wrestlers inner feel wow could read say wall bathroom would deep get famous parent famous celebrities want kid make bad show feel cancel soon  "
      ]
     },
     "execution_count": 14,
     "metadata": {},
     "output_type": "execute_result"
    }
   ],
   "source": [
    "train.sample(2)"
   ]
  },
  {
   "cell_type": "markdown",
   "metadata": {
    "nbpresent": {
     "id": "4eeefbfd-9a30-4e11-9647-daa037e26042"
    }
   },
   "source": [
    "### Build Vocabulary\n",
    "\n",
    "Instead of using `CountVectorizer` (N-gram) provided by sklearn directly, we will build the vocabulary on our own, so that we have more control over it.\n",
    "\n",
    "<span style=\"color:red\">**Tips:**</span>\n",
    "\n",
    "We can only use words in training data for building vocabulary"
   ]
  },
  {
   "cell_type": "code",
   "execution_count": 15,
   "metadata": {
    "ExecuteTime": {
     "end_time": "2022-08-24T17:04:34.316755Z",
     "start_time": "2022-08-24T17:04:34.002972Z"
    },
    "nbpresent": {
     "id": "f3befe75-935e-479c-b78e-a739199a7a95"
    }
   },
   "outputs": [
    {
     "data": {
      "application/vnd.jupyter.widget-view+json": {
       "model_id": "e51905ec5a3d44d495f77b150e3aeae6",
       "version_major": 2,
       "version_minor": 0
      },
      "text/plain": [
       "  0%|          | 0/25000 [00:00<?, ?it/s]"
      ]
     },
     "metadata": {},
     "output_type": "display_data"
    }
   ],
   "source": [
    "all_words = [w for text in tqdm(train['text_prep']) \n",
    "             for w in text.split()]"
   ]
  },
  {
   "cell_type": "code",
   "execution_count": 16,
   "metadata": {
    "ExecuteTime": {
     "end_time": "2022-08-24T17:04:51.968291Z",
     "start_time": "2022-08-24T17:04:50.656382Z"
    },
    "nbpresent": {
     "id": "e9e13deb-7fad-47d9-a5d3-9203e14e721c"
    }
   },
   "outputs": [
    {
     "name": "stdout",
     "output_type": "stream",
     "text": [
      "<FreqDist with 65102 samples and 3025774 outcomes>\n"
     ]
    }
   ],
   "source": [
    "# Use FreqDist to get count for each word\n",
    "voca = nltk.FreqDist(all_words)\n",
    "print(voca)"
   ]
  },
  {
   "cell_type": "code",
   "execution_count": 17,
   "metadata": {
    "ExecuteTime": {
     "end_time": "2022-08-24T17:05:17.305847Z",
     "start_time": "2022-08-24T17:05:17.270523Z"
    },
    "nbpresent": {
     "id": "e87733fb-34db-482b-a21a-acb88c5b3e93"
    }
   },
   "outputs": [
    {
     "data": {
      "text/plain": [
       "[('film', 48184),\n",
       " ('movie', 44024),\n",
       " ('one', 26785),\n",
       " ('make', 23568),\n",
       " ('like', 22361),\n",
       " ('see', 20792),\n",
       " ('get', 18140),\n",
       " ('time', 16167),\n",
       " ('good', 15140),\n",
       " ('character', 14172)]"
      ]
     },
     "execution_count": 17,
     "metadata": {},
     "output_type": "execute_result"
    }
   ],
   "source": [
    "voca.most_common(10)"
   ]
  },
  {
   "cell_type": "code",
   "execution_count": 22,
   "metadata": {
    "ExecuteTime": {
     "end_time": "2022-08-24T17:07:06.324091Z",
     "start_time": "2022-08-24T17:07:06.209661Z"
    },
    "nbpresent": {
     "id": "9fb9823c-b17b-4a6b-a478-ee9a923148e8"
    }
   },
   "outputs": [
    {
     "name": "stdout",
     "output_type": "stream",
     "text": [
      "['film', 'movie', 'one', 'make', 'like', 'see', 'get', 'time', 'good', 'character', 'go', 'watch', 'even', 'would', 'think', 'story', 'really', 'well', 'show', 'look', 'much', 'say', 'end', 'know', 'people', 'bad', 'also', 'first', 'great', 'give', 'act', 'take', 'play', 'love', 'come', 'way', 'find', 'could', 'movies', 'seem', 'work', 'plot', 'two', 'many', 'want', 'life', 'never', 'little', 'best', 'try', 'man', 'ever', 'better', 'still', 'scene', 'feel', 'part', 'scenes', 'back', 'something', 'use', 'interest', 'lot', 'real', 'star', 'though', 'cast', 'thing', 'old', 'years', 'actors', 'director', 'leave', 'live', 'guy', 'another', 'new', 'nothing', 'funny', 'write', '10', 'tell', 'actually', 'point', 'start', 'every', 'become', 'set', 'turn', 'world', 'us', 'quite', 'kill', 'things', 'action', 'pretty', 'young', 'happen', 'around', 'horror', 'mean', 'long', 'however', 'fact', 'right', 'big', 'line', 'enough', 'series', 'may', 'need', 'original', 'fan', 'script', 'bite', 'enjoy', 'keep', 'without', 'must', 'begin', 'comedy', 'always', 'family', 'role', 'saw', 'shoot', 'last', 'kid', 'almost', 'put', 'least', 'do', 'believe', 'whole', 'music', 'place', 'lead', 'far', 'reason', 'run', 'anything', 'minutes', 'book', 'laugh', 'might', 'since', 'performance', '2', 'effect', 'girl', 'probably', 'name', 'let', 'screen', 'woman', 'call', 'kind', 'tv', 'away', 'read', 'help', 'yet', 'day', 'rather', 'worst', 'fun', 'sure', 'hard', 'anyone', 'bore', 'especially', 'although', 'expect', 'course', 'job', 'bring', 'move', 'sense', 'war', 'actor', 'different', 'lose', 'money', 'year', 'mind', 'dvd', 'maybe', 'someone', 'true', 'house', 'everything', 'direct', 'second', 'three', 'face', 'worth', 'main', 'together', 'sound', 'american', 'follow', 'everyone', 'waste', 'john', 'father', 'later', 'audience', 'eye', 'view', '1', 'recommend', 'instead', 'beautiful', 'understand', 'fall', 'night', 'hear', 'high', 'miss', 'version', 'talk', 'wife', 'fight', 'black', 'special', 'half', 'hand', 'head', 'remember', 'excellent', 'open', 'idea', 'change', 'include', 'surprise', 'short', 'nice', 'die', 'less', 'else', 'piece', 'appear', 'simply', 'picture', 'top', 'home', 'attempt', 'budget', 'release', 'suppose', 'men', 'death', 'hollywood', 'feature', 'care', 'poor', 'meet', 'couple', '3', 'entertain', 'completely', 'dead', 'rat', 'either', 'involve', 'wrong', 'rest', 'classic', 'performances', 'lack', 'word', 'low', 'women', 'title', 'production', 'friends', 'decide', 'full', 'camera', 'along', 'murder', 'style', 'add', 'truly', 'school', 'save', 'video', 'sex', 'awful', 'age', 'next', 'case', 'stupid', 'create', 'sort', 'perhaps', 'review', 'moments', 'episode', 'wonderful', 'joke', 'light', 'wonder', 'small', 'game', 'base', 'terrible', 'perfect', 'flick', 'sequence', 'early', 'often', 'comment', 'mother', 'human', 'person', 'stand', 'others', 'close', 'sit', 'consider', 'definitely', 'guess', 'boy', 'white', 'amaze', 'stop', 'mention', 'dialogue', 'finally', 'yes', 'break', 'felt', 'cut', 'force', 'fail', 'children', 'experience', 'ask', 'hit', 'cinema', 'side', 'absolutely', 'voice', 'disappoint', 'worse', 'buy', 'certainly', 'entire', 'killer', 'problem', 'oh', 'evil', 'hope', 'mr', 'hold', 'friend', 'overall', 'several', 'number', 'drama', 'support', 'type', 'dance', 'learn', 'wait', 'deal', 'speak', 'already', 'dark', '5', 'matter', 'example', 'direction', '4', 'spend', 'despite', 'throughout', 'walk', 'son', 'unfortunately', 'forget', '\\x96', 'michael', 'history', 'heart', 'final', 'fine', 'portray', 'manage', 'child', 'humor', 'present', 'power', 'totally', 'quality', 'theme', 'art', 'wish', 'b', 'touch', 'credit', 'pay', 'behind', 'town', 'realize', 'twist', 'days', 'throw', 'past', 'viewer', 'stay', 'able', 'rent', 'genre', 'please', 'blood', 'today', 'question', 'deserve', 'stuff', 'favorite', 'car', 'soon', 'actress', 'sometimes', 'etc', 'annoy', 'late', 'girls', 'level', 'god', 'chance', 'score', 'catch', 'horrible', 'body', 'slow', 'city', 'brilliant', 'self', 'hour', 'dream', 'drive', 'stories', 'return', 'figure', 'obviously', 'grow', 'order', 'build', 'decent', 'pace', 'writer', 'except', 'highly', 'group', 'draw', 'edit', 'daughter', 'jam', 'complete', 'anyway', 'career', 'roles', 'moment', 'brother', 'police', 'husband', 'strong', 'violence', 'particularly', 'pick', 'extremely', 'sing', 'obvious', 'season', 'alone', 'rock', 'offer', 'hero', 'gore', 'state', 'crap', 'room', 'result', 'cause', 'explain', 'ago', 'none', 'note', 'hell', 'david', 'simple', 'deliver', 'ok', 'allow', 'class', 'convince', 'check', 'focus', 'song', 'win', 'value', 'seriously', 'stick', 'possible', 'king', 'sad', 'exactly', 'musical', 'serious', 'compare', 'scary', 'reality', 'whose', 'english', 'cinematography', 'usually', 'provide', 'shock', 'hours', 'cool', 'avoid', 'hilarious', 'across', 'middle', 'cop', 'message', 'relationship', 'somewhat', 'charm', 'happy', 'usual', 'ridiculous', 'pass', 'opinion', 'novel', 'documentary', 'form', 'robert', 'prove', 'ones', 'single', 'shots', 'hop', 'major', 'jack', 'huge', 'female', 'produce', 'mostly', 'episodes', 'country', 'team', 'five', 'talent', 'imagine', 'thank', 'important', 'modern', 'earth', 'cover', 'strange', 'marry', 'pull', 'apparently', 'fill', 'four', 'events', 'due', 'steal', 'songs', 'plan', 'attention', 'basically', '7', 'television', 'subject', 'develop', 'comic', 'clearly', 'future', 'dog', 'non', 'british', 'paul', 'fast', 'parent', 'thriller', '8', 'cheap', 'easily', 'silly', 'problems', 'detail', 'escape', 'date', 'fire', 'entertainment', 'local', 'gun', 'beyond', 'straight', 'wear', 'george', 'doubt', 'oscar', 'upon', 'image', 'whether', 'fit', 'predictable', 'romantic', 'capture', 'similar', 'mystery', 'discover', 'lady', 'richard', 'remain', 'remind', 'bear', 'enjoyable', 'air', 'near', 'mark', 'send', 'within', 'ten', 'theater', 'animation', 'chase', 'dull', 'attack', 'carry', 'bunch', 'sequel', 'clear', 'sister', 'red', 'nearly', 'lee', 'box', 'choose', 'match', 'york', 'mess', 'ways', 'storyline', 'finish', 'easy', 'space', 'fantastic', 'list', 'battle', 'actual', 'effort', 'bill', 'confuse', 'french', 'tale', 'hate', 'suffer', 'minute', '9', 'viewers', 'general', 'tom', 'elements', 'among', 'train', 'agree', 'hide', 'typical', 'spirit', 'soldier', 'famous', 'drug', 'sorry', 'peter', 'baby', 'dialog', 'trouble', 'excite', 'period', 'cry', 'soundtrack', 'certain', 'weak', 'romance', 'material', 'crime', 'continue', 'realistic', 'somehow', 'remake', 'free', 'mix', 'cartoon', 'disney', 'suck', 'reveal', 'fly', 'appeal', 'premise', 'greatest', 'mistake', 'contain', 'beat', 'eat', 'copy', 'lame', 'zombie', 'suspense', 'admit', 'third', 'appreciate', 'atmosphere', 'whatever', 'particular', 'de', 'describe', 'america', 'fear', 'treat', 'average', 'issue', 'fantasy', 'hat', 'warn', 'indeed', 'blow', 'eventually', 'background', 'forward', 'adventure', 'stage', 'japanese', 'poorly', 'award', 'believable', 'nature', 'sexual', 'possibly', 'notice', 'struggle', 'okay', 'accent', 'water', 'imdb', 'dr', 'street', 'doctor', 'truth', 'difficult', 'screenplay', '20', 'joe', 'scream', 'hot', 'drink', 'control', 'costume', 'project', 'jump', 'directors', 'unless', 'society', 'superb', 'shame', 'otherwise', 'situation', 'dramatic', 'memorable', 'male', 'ghost', 'color', 'party', 'weird', 'earlier', 'badly', 'tear', 'cat', 'writers', 'fi', 'flaw', 'rise', 'sci', 'emotional', 'jane', 'respect', 'crazy', 'suggest', 'older', 'monster', 'beauty', 'bother', 'deep', 'roll', 'footage', 'plus', 'development', 'design', 'e', 'quickly', 'creepy', 'lie', 'perfectly', 'towards', 'girlfriend', 'dress', 'total', 'cheesy', 'unique', 'amuse', 'plenty', 'previous', 'personal', 'band', 'disturb', 'incredibly', 'answer', 'rate', 'business', 'front', 'exist', 'apart', 'christmas', 'concern', 'powerful', '30', 'burn', 'boys', 'ben', 'term', 'serve', 'era', 'hardly', 'potential', 'secret', 'masterpiece', 'dumb', 'gay', 'sleep', 'political', 'promise', 'various', 'brain', 'villain', 'western', 'inside', 'co', 'tone', 'post', '80', 'amount', 'nudity', 'track', 'william', 'outside', 'company', 'store', 'ideas', 'claim', 'scar', 'land', 'kick', 'rich', 'fairly', 'talented', 'success', 'crew', 'step', 'unlike', 'scott', 'listen', 'plain', 'social', 'odd', 'share', 'c', 'cute', 'master', 'recently', 'rip', 'inspire', 'flat', 'sell', 'sadly', 'accept', 'spot', 'sweet', 'alien', 'cold', 'spoilers', 'office', 'mary', 'filmmakers', 'culture', 'ruin', 'public', 'incredible', 'pure', 'ring', 'record', 'reach', 'brothers', 'perform', 'large', 'trash', 'revenge', 'destroy', 'trip', 'members', 'la', 'popular', 'intrigue', 'suit', 'introduce', 'paint', 'science', 'approach', 'channel', 'camp', 'hole', 'hang', 'slightly', 'tension', 'animate', '6', 'engage', 'suddenly', 'familiar', 'neither', 'island', 'intelligent', 'clever', 'strike', 'travel', 'entirely', 'blue', 'count', 'language', '90', 'taste', 'fake', 'century', 'choice', 'receive', 'italian', 'clothe', 'fashion', 'purpose', 'successful', 'pop', 'visual', 'relate', 'drop', 'drag', 'violent', 'tony', '15', 'haunt', 'ultimately', 'basic', 'concept', 'suspect', 'survive', 'wind', 'positive', 'zombies', 'studio', 'search', 'edge', 'handle', 'ride', 'german', 'biggest', 'hurt', 'effective', 'depth', 'adult', 'recent', 'law', 'common', 'former', 'portrayal', 'raise', 'hair', 'pointless', 'solid', 'younger', 'planet', 'wall', 'visit', 'bar', 'motion', 'impressive', 'bizarre', 'stun', 'super', 'mad', 'key', 'excuse', 'impress', 'fascinate', 'impossible', 'college', 'van', 'race', 'cross', 'smith', 'prison', 'sign', 'f', 'heavy', 'producers', 'dad', 'compel', 'slasher', 'makers', 'chemistry', 'conclusion', 'grade', 'sick', 'park', 'situations', 'jim', 'awesome', 'seek', 'steve', 'barely', 'somewhere', 'cult', 'rule', 'u', 'honest', '50', 'grant', 'anti', 'dub', 'tough', 'desire', 'intend', 'regard', 'frank', 'longer', 'judge', 'fiction', 'limit', 'west', 'audiences', 'torture', 'harry', 'aside', 'south', 'ex', 'magic', 'computer', 'literally', 'boss', 'stewart', 'generally', 'pathetic', 'surprisingly', 'gang', 'club', 'page', 'display', 'natural', 'alive', 'thrill', 'repeat', 'immediately', 'yeah', 'military', 'detective', 'journey', 'london', 'smile', '100', 'tire', 'garbage', 'week', 'fair', 'stone', 'cost', 'normal', 'sam', 'aspect', 'army', 'ability', 'utterly', 'adaptation', 'honestly', 'genius', 'enter', 'appearance', 'nobody', 'mouth', 'glad', 'succeed', 'redeem', 'standard', 'climax', 'personally', 'ship', 'sexy', 'horse', 'humour', 'center', 'reference', 'wow', 'pain', 'nowhere', 'rare', 'depict', 'comedies', 'charlie', 'silent', 'study', 'machine', 'naked', 'beautifully', 'loud', 'road', 'producer', 'bottom', 'subtle', 'witness', 'unbelievable', 'insult', 'terrific', 'double', 'mood', '70', 'wild', 'damn', 'door', 'equally', 'batman', 'frame', 'embarrass', 'kelly', 'church', 'complex', 'fully', 'g', 'arm', 'lovely', 'government', 'narrative', 'conflict', 'stereotype', 'spoil', 'witch', 'arrive', 'assume', 'hunt', 'push', 'likely', 'laughable', 'chris', 'commit', 'soul', 'noir', 'vampire', 'justice', 'painful', 'outstanding', 'bond', 'marriage', 'smart', 'surely', 'innocent', 'constantly', 'satisfy', 'victim', 'thus', 'christopher', 'bed', 'require', 'gag', 'green', 'cinematic', 'slowly', 'na', 'everybody', 'hire', 'central', 'teach', 'besides', 'animals', 'presence', 'manner', 'hey', 'charles', 'spoiler', 'scenery', 'henry', 'allen', 'historical', 'jones', 'grind', 'photography', 'interview', 'indian', 'achieve', 'impression', 'paris', 'mysterious', 'expectations', 'disappointment', 'challenge', 'brief', 'phone', 'exception', 'minor', 'woods', 'model', 'festival', 'angle', 'boyfriend', 'aspects', 'critics', 'hotel', 'lover', 'ahead', 'program', 'opera', 'emotion', 'sight', 'hill', 'occur', 'blame', 'r', 'serial', 'ignore', 'content', 'opportunity', 'bruce', 'ray', 'mainly', 'element', 'forever', 'million', 'impact', 'skip', 'surround', 'segment', 'student', 'combine', 'emotions', 'zero', 'queen', 'summer', 'j', 'available', 'ball', 'officer', 'twice', 'sub', 'fool', '40', 'six', 'pack', 'bomb', 'sport', 'vote', 'likable', 'trust', 'jerry', 'encounter', 'giant', 'station', 'join', 'victims', 'trailer', 'negative', 'grace', 'fresh', 'difference', 'field', 'lord', 'adults', 'billy', 'round', 'tie', 'event', 'arthur', 'al', 'christian', 'fellow', 'represent', 'l', 'system', 'highlight', 'actresses', '11', 'gorgeous', 'fox', 'influence', 'martin', 'will', 'trap', 'thin', 'rape', 'porn', 'moral', 'ii', 'mom', 'americans', 'warm', 'supposedly', 'mediocre', 'rob', 'latter', 'tragedy', 'worthy', 'creative', 'gem', 'agent', 'relationships', 'crash', 'students', 'shop', 'explore', 'random', 'seven', 'wise', 'merely', 'disgust', 'cliché', 'funniest', 'pilot', 'fell', 'castle', 'trick', 'childhood', 'imagination', 'hospital', 'mine', 'ugly', 'davis', 'standards', 'mask', 'tend', 'absolute', 'jean', 'brian', 'attractive', 'partner', 'alan', 'recognize', 'ms', 'clue', 'extreme', 'thoroughly', 'desert', 'sky', 'tragic', 'addition', 'seemingly', 'folks', 'affair', 'express', 'thats', 'pair', 'industry', 'fault', 'williams', 'intense', 'collection', 'afraid', 'nasty', 'clean', 'animal', 'devil', 'test', 'convey', 'rap', 'instance', 'captain', 'creature', 'jackson', 'ed', 'rid', 'teen', 'apartment', 'ready', 'artistic', 'lay', 'personality', 'rescue', 'quick', 'location', 'chinese', 'area', 'dirty', 'scientist', 'length', 'shin', 'angry', 'information', 'therefore', 'tune', 'depress', 'uncle', 'professional', 'market', 'cage', 'price', 'filmmaker', 'anymore', 'food', 'news', 'rush', 'artist', 'danny', 'jason', 'worry', 'wooden', 'board', 'favourite', 'prepare', 'martial', 'x', 'onto', 'intelligence', '12', 'connect', 'member', 'stephen', 'loose', 'fat', 'criminal', 'teenage', 'floor', 'wonderfully', 'necessary', 'cgi', 'p', 'author', 'refuse', 'desperate', 'process', 'joy', 'plane', 'target', 'wed', 'deeply', 'heaven', 'disaster', 'theatre', 'speed', 'humans', 'whatsoever', 'rain', 'bank', 'nightmare', 'epic', 'andy', 'accident', 'commentary', 'mid', 'shadow', 'heroes', 'energy', 'parody', 'suicide', 'taylor', 'comedic', 'extra', 'douglas', 'rarely', 'flesh', 'independent', 'teacher', 'hint', 'bloody', 'affect', 'johnny', 'superior', 'load', 'wake', 'anybody', 'arts', 'eddie', 'religious', 'unusual', 'apparent', 'remarkable', 'tim', 'mental', 'pre', 'seat', 'pleasure', 'blind', 'range', 'charge', 'knock', 'superman', 'watchable', 'physical', 'grand', 'tap', 'unnecessary', 'accord', 'disappear', 'dare', 'craft', 'wave', 'absurd', 'irritate', 'keaton', 'memory', 'technical', 'england', 'kiss', 'contrast', 'ford', 'hitler', 'media', 'soap', 'vision', 'normally', 'anywhere', 'brutal', 'chill', 'buck', 'ice', 'fred', 'jr', 'adam', 'crowd', 'utter', 'joan', 'russian', 'moon', '80s', '60', 'frighten', 'nick', 'jeff', 'kate', '000', 'legend', 'prince', 'player', 'twenty', '70s', 'radio', 'abuse', 'somebody', 'nicely', 'quote', 'academy', 'faith', 'root', 'soft', 'passion', 'establish', 'replace', 'shakespeare', 'dick', 'gold', 'ladies', 'bits', 'clichés', 'demand', 'sum', 'favor', 'japan', 'stretch', 'execute', 'brown', 'lynch', 'candy', 'spy', 'lovers', 'dangerous', 'praise', 'prefer', 'heroine', 'constant', 'tarzan', 'threaten', 'explanation', 'ill', 'originally', 'bat', 'community', 'punch', 'debut', 'higher', 'kevin', 'lock', 'jesus', 'experiment', 'river', 'toy', 'ann', 'bet', 'freddy', 'unknown', 'players', 'belong', 'stunt', 'recall', 'nonsense', 'quiet', 'cable', 'bug', 'toward', 'foot', 'freak', 'accurate', 'stock', 'fu', 'knowledge', 'friendship', 'european', 'vhs', 'humanity', 'boat', 'spanish', 'mike', 'wide', 'research', 'tree', 'paper', 'whilst', 'factor', 'bob', 'cars', 'realism', 'empty', 'memories', 'proceed', 'finest', 'villains', 'aim', 'n', 'up', 'smoke', 'gene', 'monsters', 'aware', 'lewis', 'rubbish', 'youth', 'kinda', 'hook', 'responsible', 'santa', 'delightful', 'rank', 'singer', 'kidnap', 'morgan', 'terribly', 'jimmy', 'vs', 'aid', 'bright', 'witty', 'bland', 'months', 'abandon', 'simon', 'washington', 'gary', 'werewolf', 'loss', 'refer', 'wood', 'kong', 'fate', 'grab', 'whenever', 'private', 'blonde', 'numerous', 'resemble', 'streets', 'pretentious', 'welcome', 'bigger', 'talents', 'skills', 'reviewers', 'progress', 'finale', 'trek', 'ass', 'ordinary', 'v', 'naturally', 'unfunny', 'perspective', 'international', 'regular', 'con', 'dry', 'opposite', 'flash', 'morning', 'guard', 'eric', 'complain', 'psychological', 'sink', 'mission', 'realise', 'albert', 'source', 'sea', 'sean', 'anthony', 'humorous', 'locations', 'shape', 'owner', 'account', 'luck', 'w', 'rely', 'h', 'grip', 'behavior', 'dan', '13', 'magnificent', 'flow', 'gain', 'satire', 'consist', 'curious', 'miles', 'mrs', 'howard', 'context', 'skin', 'jennifer', 'structure', 'golden', 'cameo', 'visually', 'gangster', 'improve', 'advice', 'service', 'clip', 'shallow', 'core', 'pretend', 'existence', 'luke', 'cheat', 'corny', 'buddy', 'cash', 'lucky', 'spell', 'connection', 'essentially', 'lower', 'current', 'window', 'traditional', 'lesson', 'harris', 'wing', 'occasionally', 'balance', 'identity', 'frankly', 'genuine', 'decade', 'african', 'dimensional', 'national', 'print', 'village', 'thomas', 'efforts', 'anne', 'versions', 'visuals', 'crack', 'marie', 'formula', 'unfold', 'genuinely', 'anna', 'comparison', 'unexpected', 'lake', 'mirror', 'logic', 'reaction', 'president', 'condition', 'overly', 'meanwhile', 'gift', 'card', 'section', 'vampires', 'dislike', 'sudden', 'spectacular', 'awkward', 'leader', 'ultimate', 'robin', 'sheer', 'brilliantly', 'subtitle', 'advance', 'pile', 'unable', 'failure', 'shake', 'sake', 'psycho', 'revolve', 'strength', 'pity', 'technology', 'gordon', 'sinatra', 'evidence', 'killers', 'mass', 'sheriff', 'halloween', 'laughter', 'site', 'discuss', 'barbara', 'obsess', 'dig', 'kung', 'parker', 'regret', 'freedom', 'crappy', 'wander', 'spoof', 'winter', 'broadway', 'relief', 'gon', 'steven', 'fish', 'code', 'contrive', 'fare', 'string', 'insane', 'emotionally', 'cook', 'unite', 'dreadful', 'nominate', 'anime', 'forgive', 'reviewer', 'flashbacks', 'correct', 'strip', 'decision', 'painfully', 'neighbor', 'families', 'graphic', 'woody', 'commercial', 'hunter', 'majority', 'menace', 'native', 'glass', 'possess', 'religion', 'protagonist', 'delight', 'attitude', 'gratuitous', 'individual', 'treasure', 'daniel', 'par', 'overlook', 'asian', 'photograph', 'expose', 'foreign', 'feet', 'nevertheless', 'vehicle', 'victor', 'network', 'distract', 'reflect', 'spin', 'wayne', 'treatment', 'endless', 'underrate', 'earn', 'generation', 'letter', 'adapt', 'k', 'tape', 'solve', 'gory', 'separate', 'practically', 'wit', 'france', 'pleasant', 'switch', 'classics', 'ancient', 'chick', 'victoria', 'cinderella', 'winner', 'exploitation', 'scale', 'stag', 'host', 'jackie', 'joseph', 'product', 'combination', 'curse', '0', 'alex', 'monkey', 'fame', 'sacrifice', 'wrap', 'angel', 'attract', 'proper', 'sympathetic', 'chief', 'theaters', 'uk', 'bird', 'appropriate', 'extras', 'theatrical', 'handsome', 'court', 'capable', 'roy', 'nancy', 'bridge', 'safe', 'largely', 'germany', 'moore', 'priest', 'anger', 'canadian', 'investigate', 'unrealistic', 'matt', 'slap', 'hearted', 'louis', 'invite', 'provoke', 'stumble', 'sequels', 'ryan', 'facts', 'determine', 'patrick', 'anderson', 'grave', 'accomplish', 'strongly', 'ape', 'protect', 'heck', 'eight', 'hall', 'position', 'football', 'walter', 'teenager', 'excitement', 'saturday', 'oliver', 'object', 'lousy', 'scare', 'terrify', 'thoughts', 'substance', 'com', 'circumstances', 'table', 'naive', 'tedious', 'defeat', 'task', 'frustrate', 'wan', 'report', 'refresh', 'teenagers', 'universal', 'trilogy', 'europe', 'weekend', 'define', 'amateurish', 'robot', 'colour', 'rival', 'pitch', 'beach', 'max', 'baseball', 'danger', 'che', 'amateur', 'hopefully', 'gut', 'virtually', 'glimpse', 'noise', 'rental', 'fairy', 'risk', 'hype', 'horribly', 'creatures', 'tiny', 'purchase', 'north', 'reporter', 'relatively', 'mini', 'murphy', 'honor', 'asleep', 'powell', 'complicate', 'cowboy', 'associate', 'admire', 'africa', 'remove', 'till', 'continuity', 'prevent', 'initial', 'category', 'unlikely', 'contemporary', 'surface', 'gross', 'arrest', 'twin', 'offensive', 'semi', 'texas', 'maintain', 'inner', 'lawyer', 'argue', 'hitchcock', 'overcome', 'brave', 'kim', 'sin', 'mature', 'gas', 'attend', 'unfortunate', 'professor', 'russell', 'surreal', 'politics', 'press', 'nail', 'sisters', 'notch', 'qualities', '14', 'forest', 'cant', 'closer', 'plague', 'movement', 'sharp', 'makeup', 'liners', 'australian', 'columbo', 'deaths', 'lesbian', 'chan', 'bind', 'border', 'foster', 'forgettable', 'swear', 'bus', 'landscape', 'clark', 'degree', 'damage', 'peace', 'previously', 'edward', 'caine', 'birth', 'roger', 'demonstrate', 'guide', 'buff', 'enemy', 'stink', 'propaganda', 'emma', 'mainstream', 'weeks', 'pacino', 'prime', 'whoever', 'pet', 'erotic', 'supernatural', 'exact', 'size', 'veteran', 'routine', 'upset', 'merit', '25', 'deadly', 'latest', 'settle', 'accidentally', 'wilson', 'invisible', 'dollars', 'blend', 'harsh', 'sun', 'speech', 'alice', 'rough', 'sympathy', 'mgm', 'contact', 'teens', 'needle', 'lift', 'friday', 'uninteresting', 'nude', 'link', 'guilty', 'ted', 'universe', 'path', 'terror', 'princess', 'matrix', 'corner', 'exploit', 'hood', 'gritty', 'doom', 'dozen', 'justify', 'mountain', 'atrocious', 'league', 'irish', 'technically', 'driver', 'junk', 'blah', 'sword', 'shut', 'aka', 'swim', 'department', 'magical', 'format', 'lugosi', 'security', 'friendly', 'emerge', 'jaw', 'darkness', 'occasional', 'identify', 'pitt', 'directly', 'false', 'legendary', 'sullivan', 'truck', 'pan', 'prior', 'vietnam', 'sarah', 'theory', 'confront', 'suspenseful', 'demons', 'endure', 'variety', 'split', 'breast', 'narration', 'sentence', 'massive', 'johnson', 'hong', 'kinds', 'reputation', 'donald', 'yell', 'behave', 'nose', 'everywhere', 'statement', 'sunday', 'multiple', 'forth', 'crush', 'metal', 'bury', 'bourne', 'equal', 'jerk', 'un', 'titanic', 'nazi', 'gather', 'depend', 'urban', 'execution', 'rachel', 'california', 'remotely', 'conversation', 'china', 'fictional', 'jar', 'reward', 'dean', 'melodrama', 'revolution', 'proud', 'freeman', 'quest', 'lonely', 'flight', 'julia', 'jungle', 'borrow', 'grim', 'hoffman', 'belief', 'downright', 'effectively', 'worthwhile', 'insight', 'fade', 'afternoon', 'lifetime', 'blockbuster', 'crude', 'beast', 'jon', 'favorites', 'jail', 'susan', 'happiness', 'san', 'unconvincing', 'lisa', 'dragon', 'shower', 'nation', 'bag', 'storm', 'branagh', 'trade', 'finger', 'imagery', 'shark', 'mexico', 'accompany', 'captivate', 'brook', 'idiot', 'alright', 'cultural', 'mexican', 'ha', 'delivery', 'pose', 'von', 'bone', '60s', 'scheme', 'ron', 'address', 'sir', 'dude', 'demon', 'larry', 'scenario', 'productions', 'pursue', 'status', 'snake', 'screw', 'thumb', 'thankfully', 'tour', 'christ', '1950', 'tight', 'beg', 'ned', 'artists', 'significant', 'stomach', 'occasion', 'indie', 'chair', 'cruel', 'teeth', 'encourage', 'examples', 'studios', 'retard', 'mere', 'device', 'hip', 'skill', 'sensitive', 'chain', 'heavily', 'render', 'cabin', 'sidney', 'necessarily', 'command', 'practice', 'holiday', 'spite', 'clichéd', 'murderer', 'india', 'reject', 'desperately', 'campy', 'outfit', 'fabulous', 'cheer', 'beloved', 'summary', 'initially', 'offend', 'tongue', 'midnight', 'stalk', 'faithful', 'stab', 'ticket', 'breath', 'decades', 'pregnant', 'racist', 'warner', 'facial', 'hardy', 'deeper', 'shoe', 'feed', 'stereotypical', 'promote', 'intellectual', 'raw', 'fourth', 'flashback', 'dennis', 'cell', '17', 'slapstick', 'brad', 'ludicrous', 'spring', 'insist', 'disbelief', 'inept', 'elizabeth', 'reminiscent', 'environment', 'musicals', 'settings', 'critical', 'guarantee', 'expert', 'benefit', 'maria', 'description', 'quirky', '1980', 'amazingly', 'daughters', 'mildly', 'explode', 'lincoln', 'underground', 'greater', 'slave', 'criminals', 'julie', 'bbc', 'sandler', 'cringe', 'storytelling', 'halfway', 'claire', 'criticism', 'extraordinary', 'turkey', 'leslie', 'aunt', 'funnier', 'wreck', 'overwhelm', 'depiction', 'melt', 'generate', 'notorious', 'michelle', 'creep', 'choices', 'advantage', 'extent', 'originality', 'comical', 'jessica', 'advertise', 'preview', 'east', 'defend', 'lane', 'ensue', 'miscast', 'divorce', 'rogers', 'plant', 'apply', 'basis', 'via', 'purely', 'dollar', 'bollywood', 'graphics', 'expression', 'inspiration', 'miller', 'notable', 'breathtaking', 'extend', 'novels', 'mouse', 'contribute', 'introduction', 'stanley', 'weapons', 'fix', 'lazy', 'maker', 'everyday', 'nowadays', 'properly', 'cooper', 'oppose', 'measure', 'vacation', 'blair', 'carpenter', 'burt', 'laura', 'block', 'lion', 'authentic', 'strangely', 'out', 'sitcom', 'circle', 'neck', 'tales', 'massacre', 'advise', 'workers', 'concert', 'tracy', 'lesser', 'mob', 'grey', 'bitter', '1970', 'cheese', 'obnoxious', 'corrupt', '2000', 'react', 'westerns', 'sleazy', 'southern', 'overact', 'jewish', 'usa', 'nonetheless', 'addict', 'daily', 'chop', 'bend', 'gruesome', 'busy', '2006', 'bettie', 'confusion', 'remote', 'reed', 'sinister', 'alas', 'holmes', 'shirt', 'ironic', 'essential', 'obsession', 'interpretation', 'accuse', 'inspector', 'tradition', 'navy', 'nut', 'franchise', 'madness', 'reduce', 'transform', 'appal', 'bully', 'successfully', 'mansion', 'transfer', 'nurse', 'nine', 'stanwyck', 'philip', 'angels', 'goofy', 'screenwriter', 'intentions', 'existent', 'lucy', '2001', 'pool', 'widow', 'oddly', 'amongst', 'marvelous', 'mentally', 'em', 'topic', 'presentation', 'jake', 'legs', 'sutherland', 'manager', 'horrific', 'fortunately', 'disguise', 'comedian', 'relax', 'zone', 'patient', 'pound', 'thief', 'intensity', 'upper', 'text', 'brando', 'imply', 'stylish', 'attach', 'stupidity', 'shoulder', 'albeit', 'frequently', 'jay', 'shift', 'dawn', 'wwii', 'ashamed', 'matthau', 'alter', 'snow', 'wash', 'surf', 'forbid', 'remark', 'bo', 'poignant', '1950s', 'knife', 'prop', 'shout', 'personalities', 'rebel', 'prostitute', 'enhance', 'sneak', 'seagal', 'heat', 'expressions', 'chuck', 'tense', 'rochester', '18', 'hence', 'stranger', 'silver', 'proof', 'bette', 'internet', 'baker', 'pride', 'widmark', 'exaggerate', 'mindless', 'glory', 'dinner', 'greatly', 'cynical', 'innocence', 'bath', 'elvis', 'spielberg', 'credible', 'italy', 'horrify', 'hammer', 'racism', 'bang', 'wealthy', 'credibility', 'elvira', 'blank', 'thousands', 'sole', 'butt', 'absorb', 'fbi', 'endear', 'streisand', 'silence', 'crisis', 'helen', 'controversial', 'dentist', 'contract', 'happily', 'noble', 'swing', 'deny', 'translate', 'burton', 'flop', 'nelson', 'trite', 'pat', 'catholic', 'andrews', 'triumph', 'alike', 'medical', 'carter', 'conclude', 'broadcast', 'countries', 'lend', 'trial', 'reunion', 'hundreds', 'physically', 'derek', 'thrillers', 'lessons', 'oil', 'savage', 'weight', 'technique', 'enjoyment', 'own', 'sexuality', 'climb', 'performers', 'chaplin', 'bush', 'per', 'chuckle', 'celebrate', 'kurt', 'dancer', 'parallel', 'ensemble', 'virgin', 'uncomfortable', 'dump', 'boot', 'whereas', 'britain', 'inform', 'wound', 'neat', 'hundred', 'sons', 'millions', 'mst3k', 'ta', 'employ', 'weapon', 'irony', 'exceptional', 'month', 'atmospheric', 'overdo', 'concentrate', 'be', 'march', 'brand', 'plastic', 'infamous', 'courage', 'karloff', 'conceive', 'assistant', 'arnold', 'garden', 'polish', 'mar', 'cousin', 'caricature', 'mill', 'restore', 'disagree', 'andrew', 'ralph', 'flynn', 'cube', 'pal', 'float', 'protagonists', 'resort', 'oscars', 'induce', 'dear', 'spike', 'sweep', 'cameos', 'sentimental', 'cruise', 'idiotic', 'pig', 'entry', 'vincent', 'row', 'exercise', 'portrait', 'hamlet', 'meaningful', 'colorful', 'slip', '24', 'freeze', 'puzzle', 'thousand', 'perfection', 'lovable', 'layer', 'fortune', 'file', 'ward', 'stan', 'tower', 'ham', 'redemption', 'portion', 'unforgettable', 'larger', 'spark', 'neighborhood', 'pin', 'dominate', 'worlds', 'slaughter', 'basement', 'lucas', 'attraction', 'rocket', 'boll', 'cancel', 'curtis', 'pro', 'glover', 'walken', 'convict', 'guilt', 'dorothy', '16', 'catherine', 'destruction', 'roberts', 'dialogs', 'owe', 'pg', 'pie', 'factory', 'hudson', 'compose', 'denzel', 'eerie', 'st', 'bell', 'carol', 'ad', 'thirty', 'whale', 'invent', 'boredom', 'ultra', 'library', '2005', 'ban', 'hanks', 'expensive', 'closely', 'dramas', 'imaginative', 'homeless', 'multi', 'hack', 'civil', 'competent', 'scientists', 'eva', 'complaint', '1st', 'appearances', 'urge', 'jet', 'slight', 'lloyd', 'crimes', 'rave', 'pad', 'virus', 'profound', 'distance', 'canada', 'loser', 'elsewhere', 'spread', 'secretary', 'huh', 'essence', 'devote', 'elaborate', 'button', 'jeremy', 'adopt', 'tribute', 'drown', 'cure', 'eastwood', 'bobby', 'incoherent', 'charisma', 'health', 'companion', 'doc', 'fest', 'birthday', 'goal', 'cusack', 'fetch', 'cup', 'magazine', 'tea', 'gothic', 'peak', 'construct', 'videos', 'panic', 'techniques', 'bride', 'countless', 'scooby', 'heston', 'observe', 'specific', 'lust', 'briefly', 'stress', 'hearts', 'reactions', 'unintentionally', '1990', 'charismatic', 'iii', 'ritter', 'kane', 'sexually', 'toss', 'carefully', 'admittedly', 'importance', 'reel', 'sally', 'shy', 'obscure', 'bible', 'neil', 'bud', 'godfather', 'barry', 'horrendous', 'guest', 'poverty', 'pit', 'ally', 'label', 'tons', 'shall', 'mild', 'revelation', 'stronger', 'comics', 'homage', 'stiff', 'reeve', 'gate', '1970s', 'smash', 'burst', 'easier', 'cole', 'lily', 'intention', 'cox', 'duke', 'executive', 'ian', 'tag', 'relevant', 'function', 'medium', 'update', 'astaire', 'miike', 'fancy', 'lab', 'exchange', 'inevitable', 'sophisticate', '2002', 'document', 'increasingly', 'le', 'sketch', 'vary', 'korean', 'mafia', 'carrey', 'cardboard', 'university', 'transition', 'typically', 'afford', 'dawson', 'resolve', 'kubrick', 'assault', 'resolution', 'scratch', 'acceptable', 'luckily', 'toilet', 'jesse', 'bakshi', 'blast', 'comfort', 'tame', 'farm', 'nights', 'worker', 'strictly', 'coach', 'smooth', 'brilliance', 'vague', 'davies', 'reynolds', 'depression', 'fisher', 'nuclear', 'criticize', '1980s', 'creation', 'disease', 'ego', 'qualify', 'instantly', 'brosnan', 'investigation', 'satan', 'grasp', 'assure', 'afterwards', 'union', 'jamie', 'confess', 'clock', 'cave', 'closet', 'rex', 'suspend', 'joey', 'estate', 'useless', 'handful', 'partly', 'competition', 'bias', 'gray', 'meat', 'importantly', 'persona', 'grandmother', 'kudos', 'creators', 'evident', 'norman', 'collect', 'tremendous', 'butcher', 'wipe', 'evoke', 'clown', 'presumably', 'fifteen', 'relative', 'australia', 'digital', 'cheek', 'aforementioned', 'superbly', 'farce', 'individuals', 'corpse', 'chew', 'ho', 'ambitious', 'awake', 'conspiracy', 'stooge', 'worthless', 'seed', 'abc', 'flawless', 'mitchell', 'wrestle', 'dash', '45', 'samurai', 'narrator', 'slice', 'spiritual', 'splatter', 'doors', 'regardless', 'citizen', 'diamond', '’', 'drivel', 'spooky', 'boil', 'critic', 'distant', 'generous', 'iron', 'glow', 'gap', 'curiosity', 'cagney', 'supply', 'achievement', 'lyric', 'recover', 'pleasantly', 'piano', 'horrors', 'miserably', 'bullets', 'fatal', 'prize', 'increase', 'flower', 'lou', 'mann', 'blob', 'empire', 'outrageous', 'predict', 'ken', 'pressure', 'shine', 'francisco', 'convolute', 'perry', 'territory', 'nod', 'consequences', 'goldberg', 'characterization', 'los', 'cia', 'web', 'ironically', 'repetitive', 'splendid', 'beer', 'doo', 'mile', 'uninspired', 'mate', 'response', 'falk', 'logical', 'psychiatrist', 'ellen', '20th', 'turner', 'souls', 'dire', 'indians', 'prejudice', 'craig', 'emily', 'flip', 'slightest', 'motivation', 'modesty', 'morality', 'throat', 'temple', 'melodramatic', 'shortly', 'felix', 'directorial', 'breathe', 'wolf', 'fay', 'installment', 'bash', 'tall', 'liberal', 'cameron', 'ruth', 'precious', 'documentaries', 'laurel', 'hatred', 'wes', 'jealous', 'subsequent', 'retire', 'timeless', 'knight', 'duo', 'fx', 'fund', 'manhattan', 'subplot', 'alexander', 'dracula', 'insert', 'gandhi', 'alternate', 'dive', 'tank', 'futuristic', 'warrior', 'poster', 'mock', 'bless', 'seduce', 'psychotic', 'restaurant', 'scientific', 'awaken', 'repeatedly', 'disc', 'torment', 'minimal', 'editor', 'mel', 'drunken', 'explicit', 'elderly', 'manipulate', 'thread', 'paulie', 'nerve', 'indicate', 'notably', 'reasonably', 'superhero', 'bleak', 'wicked', 'photographer', 'glenn', 'rivet', 'outcome', 'argument', 'ah', 'timothy', 'gradually', 'acclaim', '2004', 'kitchen', 'ease', 'pirate', 'soviet', 'craven', 'discussion', 'lean', 'illustrate', 'loosely', 'launch', 'dignity', 'idiots', 'verhoeven', 'giallo', 'poison', 'antic', 'romero', 'pierce', 'definite', 'darker', 'sloppy', 'eve', 'annie', 'reasonable', 'ambition', 'phrase', 'translation', 'uniform', 'carrie', 'warren', '99', 'dave', 'purple', 'intent', 'breed', 'square', 'stiller', 'sunshine', 'childish', 'hysterical', 'walker', 'pulp', 'wannabe', 'bin', 'package', 'absence', 'resist', 'fever', 'areas', 'crook', 'gentle', 'awe', 'danes', 'weave', 'discovery', 'threat', 'contrary', 'dancers', 'q', 'wallace', 'vicious', 'brazil', 'commercials', 'folk', 'kenneth', 'saint', '2003', 'horrid', 'unbelievably', 'pray', 'leap', 'thick', 'yesterday', 'unbearable', 'foul', 'eyre', '1930s', 'karen', 'choreography', 'ireland', 'mildred', 'heroic', 'movements', 'broad', 'dose', 'twelve', 'differences', 'defy', 'overrate', 'incident', 'hollow', 'matthew', 'donna', 'prom', 'bathroom', 'involvement', 'kapoor', 'kirk', 'nazis', 'jazz', 'margaret', 'evolve', 'combat', 'flame', 'symbolism', 'altman', 'fee', 'ought', 'bare', 'rambo', 'aspire', 'bull', 'hamilton', 'bottle', 'tommy', 'anyways', 'shade', 'communicate', 'spit', 'newspaper', 'greek', 'boast', 'currently', 'beatty', 'audio', 'nicholson', 'holy', 'staff', 'genres', 'fulci', 'whip', 'mat', 'population', 'trio', 'website', 'popcorn', 'flee', 'sadistic', '50s', 'journalist', 'sadness', 'superficial', 'dedicate', 'todd', 'adequate', 'terry', 'harder', 'secrets', 'reunite', 'seventies', 'leg', 'dynamic', 'swedish', 'yellow', 'altogether', 'explosion', 'cliff', 'neo', 'pseudo', 'ridiculously', 'fighter', 'bust', 'hugh', 'robots', 'wire', 'sue', 'lawrence', 'befriend', 'await', 'fonda', 'li', 'voight', 'synopsis', 'pen', 'dinosaurs', 'leonard', 'selfish', 'thugs', 'madonna', 'misunderstand', 'rage', 'atlantis', 'tip', 'comfortable', 'astonish', 'innovative', 'unsettle', 'centre', 'blake', 'rural', 'detract', 'bargain', 'gadget', 'clint', 'conversations', 'mountains', 'juvenile', 'dimension', 'garner', 'cameras', 'dialogues', 'unpleasant', 'coherent', 'explosions', 'versus', 'cuba', '2nd', 'locate', 'vivid', 'brady', 'adore', 'venture', 'troop', 'philosophy', '2007', 'harm', 'bullet', 'favour', 'trail', 'conventional', 'examine', 'echo', 'operate', 'buddies', 'eccentric', 'wealth', 'lemmon', 'murderous', 'carl', 'nearby', 'lips', 'unintentional', 'errors', 'meaningless', '1930', 'mickey', 'cary', 'mislead', 'kennedy', 'odds', 'palma', 'abilities', 'nightmares', 'solo', 'pause', 'mummy', 'deliberately', 'pun', 'collapse', 'implausible', 'jeffrey', 'celluloid', 'announce', 'edie', 'neglect', 'milk', 'choreograph', 'roman', 'ingredients', 'cake', 'olivier', 'possibility', 'bedroom', 'uneven', 'holly', 'coat', '1996', 'betray', 'undoubtedly', 'pant', 'spare', 'confirm', 'hbo', 'harvey', 'ginger', 'bleed', 'resemblance', 'daddy', 'furthermore', 'duty', 'funeral', 'coffee', 'tool', 'pot', 'gear', 'ground', 'florida', 'official', 'highest', 'polanski', 'debate', '90s', 'colonel', 'survival', 'respond', 'cue', 'primary', 'hart', 'din', 'politically', 'punk', 'goodness', 'unwatchable', 'brooklyn', 'godzilla', '1960', 'chaos', '1999', 'mysteries', 'hank', 'rick', 'generic', 'backdrop', 'poke', 'maggie', 'slide', 'linda', 'strain', 'bowl', 'remarkably', 'isolate', 'smaller', 'wive', 'financial', 'clumsy', 'sidekick', 'exotic', 'notion', 'glorious', 'lol', 'embrace', 'enchant', 'primarily', 'rabbit', 'desperation', 'lifestyle', 'retain', 'consistently', 'outer', 'secondly', 'trace', 'instant', 'principal', 'enterprise', 'beneath', 'blatant', 'amy', 'hal', 'decisions', 'devoid', 'destiny', 'dutch', 'doll', 'enemies', 'motives', 'streep', 'performer', 'pearl', 'diane', 'ideal', 'forty', 'trademark', 'mixture', 'et', 'disjoint', 'enormous', 'audition', 'countryside', 'alert', 'frustration', 'revolutionary', 'terrorist', 'dozens', 'interact', 'declare', 'quit', 'homer', 'ocean', 'grinch', 'communist', 'ya', 'anticipate', 'shirley', 'garbo', 'hideous', 'shelf', 'montage', 'immensely', 'tender', 'bold', 'celebrity', 'relations', 'vanish', 'compete', 'obtain', 'user', '3rd', 'method', 'mail', 'macy', 'z', 'applaud', 'griffith', 'hardcore', 'stellar', 'stack', 'boom', 'subtlety', 'fond', 'trailers', 'stinker', 'uwe', 'inhabit', 'fry', 'cinematographer', 'rifle', 'emphasis', 'stir', 'eighties', 'senseless', 'adorable', 'april', 'decline', 'participate', 'soccer', 'contest', 'angeles', 'tenant', 'span', 'specifically', 'diana', 'wont', 'imitate', 'saga', 'craze', 'survivors', 'counter', 'oz', 'tempt', 'hartley', 'authority', 'simplistic', 'sh', 'ruthless', 'topless', 'amanda', 'transformation', 'shed', 'babe', 'miserable', 'wet', 'revolt', 'akshay', '1940', 'transport', 'parade', 'corruption', 'woo', 'vast', 'riot', 'bitch', 'niro', 'faster', 'rag', 'lumet', 'judy', 'loyal', 'shaw', 'worm', 'jonathan', 'wheel', 'mario', 'ensure', 'frequent', 'lena', 'interaction', 'humble', 'steel', 'racial', 'dinosaur', 'steam', 'passionate', 'khan', 'graduate', 'arrogant', 'elephant', 'weakest', 'honesty', 'philosophical', 'ears', 'sellers', 'chorus', 'trashy', 'wendy', 'charlotte', 'safety', 'moody', 'snap', 'berlin', 'adams', 'franco', 'thoughtful', 'possibilities', 'abysmal', 'similarities', 'sandra', 'domino', 'similarly', 'grandfather', 'morris', 'arrange', 'dread', 'formulaic', 'hopper', 'nomination', 'severe', 'illogical', 'scarecrow', 'macarthur', 'porno', '1972', 'reply', 'solely', 'dalton', 'assign', 'tail', 'bumble', 'narrate', 'nostalgic', 'campbell', 'scope', 'helicopter', 'christy', 'considerable', 'understandable', 'rope', 'acquire', 'cd', 'emperor', 'thru', 'inventive', 'nervous', 'pattern', 'education', 'myers', 'snl', 'drum', 'ramble', 'strand', 'blond', 'tad', 'dust', 'bonus', 'hyde', 'dolls', 'romp', 'rotten', 'slick', 'del', 'lately', 'despair', 'consistent', 'poetic', 'kyle', 'corporate', 'reverse', '35', 'tonight', 'drain', 'infect', 'leo', 'bow', 'educate', 'laws', 'species', 'cliche', 'orson', 'bergman', 'blunt', 'chess', 'exit', 'ignorant', 'pour', 'select', 'unhappy', 'cg', 'museum', 'embarrassment', 'mayor', 'slug', 'downhill', 'edgar', 'dazzle', 'montana', 'tackle', 'preach', 'vegas', 'shelley', 'pervert', 'kingdom', 'confidence', 'motivations', 'photos', 'arc', 'acknowledge', 'champion', 'belt', 'simpson', 'eliminate', 'roth', 'blade', 'wizard', 'namely', 'ollie', 'heal', 'inane', 'slash', 'global', 'ruby', '1983', 'vengeance', 'dixon', 'cleverly', 'connery', 'carradine', 'gamble', 'virginia', 'gangsters', 'plight', 'latin', 'dickens', 'eager', 'inferior', 'miracle', 'closest', 'paltrow', 'useful', 'timon', 'suitable', 'stevens', 'relation', 'conservative', 'recruit', 'bela', 'recycle', 'ballet', 'jenny', 'artificial', 'agents', 'sappy', 'crocodile', 'whine', 'valuable', '1968', 'convincingly', 'swallow', 'alcoholic', 'quarter', 'paranoia', '00', 'mall', 'access', 'scottish', 'iran', 'bay', 'uplift', 'secretly', 'stilted', 'climactic', 'clone', 'suffice', 'elegant', 'robinson', 'civilization', 'airport', 'tube', 'gundam', 'chest', 'giggle', 'scrooge', 'sirk', 'mute', 'yawn', 'pokemon', 'raymond', 'understate', 'expand', 'im', 'surpass', 'chicago', 'mesmerize', 'richardson', 'engross', 'spock', 'creator', 'vice', 'poetry', 'airplane', 'beliefs', 'devastate', 'exploration', 'plod', 'amitabh', 'willis', 'trend', 'intimate', 'lowest', 'tiresome', 'robbery', 'nicholas', 'ethan', 'september', 'misery', 'frankenstein', 'meander', '1960s', 'linger', 'lundgren', 'calm', 'christians', 'simplicity', 'greedy', 'catchy', 'potentially', 'hum', 'rant', 'invasion', 'compliment', 'waitress', 'numb', 'taxi', 'vulnerable', 'invest', 'abusive', 'nostalgia', 'junior', 'literature', 'germans', 'map', 'questionable', 'lure', 'cannon', 'francis', 'construction', 'gerard', 'muddle', 'rubber', 'hello', 'vaguely', 'complexity', 'acid', 'recognition', 'intentionally', 'kay', 'showcase', 'coast', 'gender', 'persons', 'careful', 'illegal', 'operation', 'richards', 'firstly', 'june', 'louise', 'duck', 'attitudes', 'alongside', 'omen', 'homosexual', 'publish', 'inappropriate', 'elevate', 'rendition', 'bacall', 'stallone', 'gabriel', 'frankie', 'brutally', 'hunters', 'marty', 'bike', 'illness', 'chicks', 'online', 'organize', 'justin', 'prisoner', 'capital', 'patients', 'farrell', 'betty', 'arguably', 'damon', 'likewise', 'grayson', 'ashley', 'edition', 'lengthy', 'confine', 'biko', 'wisdom', 'off', 'attorney', 'drake', 'newly', 'prisoners', 'opinions', 'bump', 'terrorists', 'visible', 'twilight', '1973', 'demented', 'incomprehensible', 'mankind', 'phantom', 'heel', 'resources', 'descent', 'relatives', 'unit', 'buffalo', 'lively', 'emphasize', 'startle', 'chapter', 'carell', 'tomatoes', 'habit', 'exhibit', 'molly', 'basketball', 'chronicle', 'classical', 'tunnel', 'solution', 'suspicious', 'prey', 'antwone', 'austen', 'responsibility', 'reign', 'appreciation', 'stale', 'vein', 'keith', 'mistress', 'losers', 'cities', 'manipulative', 'barrymore', 'analysis', 'occupy', 'plausible', 'rooney', 'property', 'lone', 'royal', 'randy', 'masterful', 'drift', 'owen', 'widely', 'excessive', 'dismiss', 'arrival', 'subplots', 'legal', 'equivalent', 'belushi', 'dreary', 'fleet', 'spider', 'pink', 'tiger', 'incompetent', 'barrel', 'othello', 'mundane', 'hilariously', 'mighty', 'enthusiasm', 'walsh', 'sincere', 'rocky', 'priceless', 'greed', 'warmth', 'nyc', 'alison', 'historically', 'marvel', 'disorder', 'crucial', 'engineer', 'roof', 'julian', 'ear', 'exceptionally', 'der', 'graham', 'underlie', 'butler', 'novak', 'mtv', 'defense', 'traffic', 'reid', '3d', 'photo', 'marion', 'tooth', 'instinct', 'ninja', 'lampoon', 'rukh', 'domestic', 'earl', 'alarm', 'rangers', 'shove', 'heights', 'unleash', 'firm', 'cassidy', 'orleans', 'assassin', 'mechanical', 'glance', 'monk', 'watson', 'methods', 'icon', 'resident', 'masterpieces', 'interrupt', 'angela', '1933', 'imitation', 'specially', 'irrelevant', 'willie', 'improvement', 'bubble', 'hay', 'spain', 'psychic', 'muslim', 'pursuit', 'peck', 'alfred', 'glue', 'pamela', 'gesture', 'survivor', 'drip', 'orange', 'thompson', 'prequel', 'distinguish', 'israel', '13th', 'iraq', 'poem', 'whats', 'dolph', 'carla', 'incorporate', 'randomly', 'creativity', 'opportunities', 'zizek', 'stake', 'register', 'simmons', 'feminist', '1984', 'wacky', 'recreate', 'showdown', 'restrain', 'caliber', 'minimum', 'household', 'abraham', 'labor', 'campaign', 'album', 'whoopi', 'scotland', 'fido', 'maid', 'gentleman', 'awfully', 'alcohol', 'brenda', 'punishment', 'sabrina', 'attribute', 'empathy', 'unreal', 'cannibal', 'elm', 'nephew', 'stroke', 'fiancé', 'sympathize', 'equipment', 'phony', 'distinct', 'tribe', 'cap', 'hippie', 'crawl', 'damme', 'testament', '1987', 'ramones', 'greg', 'dana', 'meryl', 'distress', 'sixties', 'alienate', 'unaware', 'spacey', 'kurosawa', 'wax', 'demise', 'activities', 'compromise', 'miyazaki', 'fuller', 'perceive', 'quinn', 'businessman', 'absent', 'warrant', 'unseen', 'eastern', 'dud', 'ustinov', 'palace', '1997', 'cream', 'eugene', 'definition', 'petty', 'travesty', 'crown', 'darren', 'stargate', 'fury', 'maniac', 'crystal', 'soderbergh', 'censor', 'pole', 'cloud', 'peters', 'mclaglen', 'popularity', 'unoriginal', 'educational', 'josh', 'nerd', '30s', 'moronic', 'valley', '1993', 'decease', 'biography', 'uncover', 'wholly', 'nonsensical', 'deniro', 'clash', 'composer', 'furious', 'laughably', 'click', 'unpredictable', 'unravel', 'antonioni', 'fog', 'nicole', 'dee', 'ross', 'austin', 'exposure', 'hopeless', 'egg', 'integrity', 'crawford', 'nathan', 'yard', 'tarantino', 'distribution', 'warriors', 'tech', 'inevitably', 'substitute', 'fence', 'seal', 'correctly', 'edgy', 'anchor', 'sissy', 'sid', 'accuracy', 'cripple', '2008', 'buster', 'leon', 'sand', 'clerk', 'compensate', 'fuel', 'conduct', 'joel', 'greatness', 'strangers', 'deaf', 'reflection', '1995', 'alec', 'metaphor', 'utilize', 'tax', 'brutality', 'les', 'slam', 'shanghai', 'bake', 'puppet', 'expedition', 'patience', 'wang', 'darn', '1971', '3000', 'compassion', '–', 'fart', 'murray', 'championship', 'dreck', 'robbins', 'significance', 'loyalty', 'shaky', 'technicolor', 'shell', 'phil', 'outline', 'derange', 'stuart', 'victory', 'unfair', 'valentine', 'sheet', 'duel', 'critique', 'wilderness', 'sustain', 'despise', 'femme', 'rita', 'chicken', 'reader', 'generations', 'legacy', 'seldom', 'pete', 'immediate', 'adaptations', 'claus', 'directions', 'malone', 'passable', 'temper', 'kumar', 'baldwin', 'indulgent', 'pocket', 'marshall', 'preston', 'respectively', 'experimental', 'newman', 'inability', 'objective', 'da', 'singers', 'confrontation', 'downey', 'millionaire', 'soup', 'jacket', 'unexpectedly', 'kansas', 'examination', 'palance', 'presume', 'jewel', 'divide', 'inherit', 'rehash', 'delve', 'logan', 'ambiguous', 'tacky', 'sugar', 'lackluster', 'boyle', 'hawke', 'andre', 'alicia', 'schedule', 'gregory', 'conscious', 'grief', 'christianity', 'marc', 'bloom', 'rear', 'russia', 'wretched', 'sentinel', 'difficulties', 'rampage', 'alternative', 'bunny', 'protest', 'fascination', 'vulgar', 'wrench', 'flair', 'humiliate', 'karl', '22', 'tripe', 'vance', 'sopranos', 'ladder', 'simultaneously', 'kolchak', 'awhile', 'premiere', 'dysfunctional', 'sentiment', 'skull', 'foxx', '1936', 'disgrace', 'sharon', 'females', 'vomit', 'bridget', 'fifty', 'paradise', 'rub', '19th', 'spice', 'paramount', 'wagner', 'appropriately', 'condemn', 'complaints', 'prank', 'bacon', 'finance', 'primitive', 'items', 'comedians', 'basinger', 'wildly', 'musicians', 'interactions', 'stream', 'underneath', 'exposition', '1978', 'teachers', 'hulk', 'lurk', 'minus', 'rude', 'musician', 'silliness', 'amusement', 'scoop', 'delete', 'precisely', 'sunny', 'hungry', 'vet', 'inject', 'beverly', 'rumor', 'consume', 'duvall', '1989', 'penn', 'arise', 'heist', 'clarke', '75', 'loneliness', 'unlikable', 'tease', 'derive', 'stark', 'absurdity', 'smell', '1988', '1939', 'fulfil', 'conscience', 'dirt', 'designer', 'assemble', 'tomorrow', 'leigh', 'celebration', 'motivate', 'quietly', 'minister', 'behold', 'posey', 'straightforward', 'bread', 'couch', 'grudge', 'servant', 'rewrite', 'region', 'coincidence', 'entrance', 'roommate', 'choppy', 'hopkins', 'premier', 'adolescent', 'curly', 'literary', 'chavez', 'electric', 'pitiful', 'weakness', 'posters', 'asylum', 'hackneyed', 'agenda', 'iv', 'wwe', 'springer', 'strive', 'nemesis', 'cancer', 'tierney', 'el', '40s', 'conviction', 'lindsay', 'mccoy', 'grotesque', 'interpret', 'ratso', '1986', 'penny', 'laurence', 'ethnic', 'policeman', 'boxer', 'devices', 'industrial', 'imaginable', 'citizens', 'yearn', 'moreover', 'haired', 'impose', 'provocative', 'roller', 'grin', 'esther', 'en', 'profanity', 'net', 'misguide', 'cattle', 'ace', 'preposterous', 'attenborough', 'active', 'bernard', 'heartfelt', 'amazon', 'behaviour', 'automatically', 'quaid', 'nolan', 'mode', 'shoddy', 'inexplicably', 'rosemary', 'additional', '1979', 'yeti', 'vader', 'option', 'tyler', 'hk', 'poe', 'spiral', 'positively', 'naughty', 'min', 'squad', 'er', 'heartbreaking', 'uncut', 'ignorance', 'secondary', 'brood', 'bye', 'guitar', 'paxton', 'canyon', 'buzz', 'beatles', 'dont', 'skits', 'hopelessly', 'tasteless', 'hughes', 'rod', 'gina', 'beware', 'affection', 'populate', 'narrow', 'preminger', 'abrupt', 'admirable', 'gillian', 'morbid', 'suspension', 'bounce', 'youngest', '1969', 'heap', 'betrayal', 'respective', 'patricia', 'lip', 'martha', 'weather', 'lush', 'kline', 'kitty', 'steady', 'coaster', 'realm', 'gal', 'meg', 'christine', 'recommendation', 'baffle', 'corpses', 'insurance', 'daniels', 'jess', 'muppet', 'jews', 'grate', 'severely', 'sweat', 'chainsaw', 'bronson', 'brendan', 'mayhem', 'selection', 'trigger', 'fist', 'entitle', 'profit', 'anticipation', 'punish', 'taboo', 'injure', 'guests', 'reserve', 'goof', 'fluff', 'eternal', 'candle', 'kidman', 'farmer', 'astound', 'lester', 'conventions', '19', 'psychology', 'rome', 'artsy', 'reluctant', 'enable', '73', 'distribute', 'evidently', 'historic', 'outlaw', 'inconsistent', 'hepburn', 'wilder', 'circus', 'tick', 'underworld', 'fontaine', 'renaissance', 'sooner', 'shatter', 'indication', 'filler', 'orient', 'lois', 'filth', 'nicolas', 'dish', 'iconic', 'acceptance', 'triple', 'oldest', 'whore', 'insipid', 'salt', 'agency', 'shrink', 'affairs', 'boston', 'sox', 'analyze', 'contemplate', 'weaknesses', 'harmless', 'housewife', 'cope', 'recognise', 'zoom', 'fifties', 'macho', 'bros', 'spade', 'sassy', 'stalker', 'angst', 'banal', 'zombi', 'cruelty', 'revive', 'blackmail', 'beside', 'visions', 'scorsese', 'muppets', 'bean', 'steer', 'hammy', 'glorify', 'gere', 'overlong', 'uh', 'mount', 'gasp', 'steele', '1976', 'confident', 'muscle', 'trivia', 'hokey', 'spree', 'preachy', 'connections', 'widescreen', 'flag', 'strongest', 'cassavetes', 'locals', 'denis', 'faint', 'repress', 'height', 'ram', '1981', 'shield', 'obligatory', 'beard', 'morally', 'route', 'cushing', 'nolte', 'enthral', 'cow', 'harold', 'dwarf', 'rhyme', 'alvin', 'flirt', 'portrayals', 'difficulty', 'runner', 'rhythm', 'commander', 'down', 'exceptions', 'ants', 'shred', 'unexplained', 'schlock', 'worship', 'naschy', 'slimy', 'someday', 'politician', 'comparisons', 'interestingly', 'shepherd', 'melody', 'www', 'hara', 'mentality', 'prominent', 'legends', 'despicable', 'rapist', 'flashy', 'mol', 'stairs', 'casual', 'shortcomings', 'spinal', 'avenge', 'danish', 'vital', 'wield', 'representation', '1945', '95', 'clan', 'boob', 'ebert', 'grainy', 'physics', 'brush', '28', 'flock', 'cohen', 'suitably', 'bachelor', 'recognizable', 'unrelated', 'phenomenon', 'raj', 'ariel', 'harrison', 'corman', 'reprise', 'vibrant', 'preserve', 'delicate', 'timberlake', 'dylan', 'heartwarming', 'assist', 'undermine', 'submit', 'ingenious', 'hapless', 'hug', 'persuade', 'independence', 'colin', 'cookie', 'loathe', 'conquer', 'globe', 'neill', 'phillip', 'carey', 'proclaim', 'phillips', 'jade', 'guinness', 'cycle', 'melissa', 'resume', 'lukas', 'helm', 'ish', 'corbett', 'enlighten', 'pickford', 'elite', 'cher', 'clueless', 'coup', 'loretta', 'inexplicable', 'considerably', 'info', 'norm', 'europa', 'horn', 'dim', 'claustrophobic', 'http', 'zane', 'rot', 'gems', 'eternity', 'genie', 'kathryn', 'pixar', 'jordan', 'winchester', 'georges', 'item', 'inhabitants', 'vanessa', 'breakfast', 'glamorous', 'marlon', 'destine', 'orphan', 'immature', 'mathieu', 'blatantly', 'christie', 'bondage', 'article', 'publicity', 'toronto', 'institution', 'riff', 'feast', 'static', 'symbolic', 'hilarity', 'ritchie', 'inflict', 'foil', 'sever', 'excel', 'election', 'backwards', 'choke', 'anton', 'razor', 'banter', 'uma', 'sicken', 'incidentally', 'wig', 'claude', 'wendigo', 'surgery', 'resurrect', 'camcorder', 'keen', 'dandy', 'peer', 'minority', 'boyer', 'disable', 'mermaid', 'ton', 'excess', 'continually', 'enlist', 'transplant', 'vocal', 'shave', 'satirical', 'departure', 'audrey', 'insightful', 'lecture', 'computers', 'dvds', 'partially', 'descend', 'assassination', 'pc', 'deem', 'alley', 'leather', 'chamberlain', 'shorter', 'proportion', 'outdated', 'disregard', 'differently', 'howl', 'authorities', 'knightley', 'detectives', 'charlton', 'natives', 'glare', 'goers', 'affleck', 'feat', 'frog', 'gunga', 'tack', 'toe', 'concepts', 'peril', 'smack', 'nope', '1994', 'mannerisms', 'comprehend', 'huston', 'snatch', 'trials', 'alexandre', 'btw', 'pacific', 'holocaust', 'potter', 'chip', 'comprise', 'culminate', 'trier', 'boo', '1990s', 'niece', 'tara', 'profession', 'suggestion', 'uniformly', 'lighter', 'sorely', 'messy', 'duration', 'accurately', 'mitch', 'milo', 'whack', 'scrap', 'greet', 'windows', 'natalie', '4th', 'mercy', 'moe', 'neurotic', 'braveheart', 'goldsworthy', 'fishburne', 'newer', '1991', 'homicide', 'dudley', 'northern', 'lifeless', 'expense', 'mon', 'carlito', 'dwell', 'bogus', 'deer', 'einstein', 'outright', 'belly', 'helpful', 'conrad', 'evolution', 'exquisite', 'insanity', 'demonic', 'triangle', 'summarize', 'bulk', 'creek', 'ie', 'randolph', 'predecessor', 'mutual', 'nina', 'gable', 'myth', 'liu', 'token', 'armstrong', 'firmly', 'sleaze', 'lavish', 'reliable', 'elevator', 'healthy', 'fright', 'clara', 'spawn', 'gilliam', 'neatly', 'errol', 'biblical', 'flavor', 'tolerate', 'indulge', 'mcqueen', 'undead', 'speeches', 'setup', 'cbs', '1974', 'snuff', 'gods', 'eleven', 'degrade', 'vile', 'evelyn', 'sincerely', 'skit', 'disastrous', '1977', 'signal', 'kazan', 'wtf', 'corn', 'fifth', 'leaders', 'pee', 'casino', 'spar', 'groan', 'bsg', 'paula', 'owners', 'luis', 'miniseries', 'porter', 'kent', 'terrorize', 'antonio', 'akin', 'cerebral', 'curtain', 'highway', 'spray', 'secure', 'sergeant', 'blur', 'goldblum', 'conan', 'salman', 'pioneer', 'judd', 'radical', 'insights', 'improvise', 'stare', 'truman', 'capote', 'convert', 'pepper', 'vain', 'embark', 'realities', 'deliverance', 'seedy', 'topics', 'contempt', 'abound', 'poker', 'statue', '1985', 'subtly', 'nations', 'differ', 'joker', 'carmen', 'sometime', 'walt', 'boris', 'grateful', 'artwork', 'spill', 'mason', 'candidate', 'cemetery', 'activity', 'roar', 'helpless', 'lex', 'error', 'cartoonish', 'lance', 'bait', 'snip', 'internal', 'cain', 'jedi', 'contribution', 'monty', 'terminator', 'growth', 'masterson', 'nominations', 'inspirational', 'bravo', 'weaker', 'scarface', 'gimmick', 'linear', 'dot', 'las', 'mum', 'verge', 'rapidly', 'vastly', 'voyage', 'relentless', 'exhaust', '21st', 'sparkle', 'masterfully', 'scariest', 'dubious', 'jill', 'puppets', 'miami', 'frontal', 'thirties', 'hugely', 'cypher', 'bach', 'lauren', 'ingrid', 'des', 'transcend', 'cinemas', 'corporation', 'unlikeable', 'tokyo', 'origin', 'hackman', 'motorcycle', 'modest', 'repulsive', 'handicap', 'wardrobe', 'drone', 'turtle', 'thunderbirds', 'soylent', 'standout', 'christina', '1959', 'giants', 'youthful', 'arab', 'sophie', 'crosby', 'expertly', 'limitations', 'strengths', 'parsons', 'macabre', 'stunningly', 'natured', 'excellently', 'underwear', 'males', 'instrument', 'replay', 'inaccurate', 'wonderland', 'unsure', 'painter', 'thieve', 'phase', 'hoot', 'crisp', 'cecil', 'amrita', 'sale', 'origins', 'monitor', 'undeniably', 'id', 'vehicles', 'spine', 'homosexuality', 'casper', 'saddle', 'youtube', 'perception', 'motive', 'missile', 'garland', 'ol', 'juliet', 'unsuspecting', 'authenticity', 'mabel', 'screenwriters', 'pump', 'shelter', 'mitchum', 'burke', 'headache', 'comb', 'harlow', 'sniper', 'beowulf', 'suburban', 'longest', 'lennon', 'galaxy', 'energetic', 'playboy', 'exterior', 'request', 'estrange', 'grass', '1940s', 'mentor', 'witchcraft', 'accessible', 'magician', 'stardom', 'judgment', 'definitive', 'toni', 'siblings', 'dealer', 'kinnear', 'ronald', 'servants', 'nbc', 'dodge', 'users', 'bruno', 'literal', 'entirety', 'colleagues', 'mobile', 'unattractive', 'fatale', '21', 'mice', 'yep', 'thrust', 'scifi', 'pronounce', 'endlessly', 'clutter', 'delicious', 'polly', 'hawk', 'herd', 'abruptly', 'ash', 'flood', 'underwater', 'vividly', 'cents', 'cheadle', 'rookie', 'residents', 'netflix', '200', 'salvation', 'promptly', 'gypo', 'troma', 'misfortune', 'earnest', 'yokai', 'puerto', 'mutant', 'derivative', 'sgt', 'exorcist', 'laurie', 'tide', 'improbable', 'principle', 'butch', 'anyhow', 'rack', 'inherent', 'asia', 'dismal', 'dilemma', 'victorian', 'chat', 'stylize', 'immerse', 'pale', 'dj', 'erika', 'blossom', 'cliches', 'imo', 'sensible', 'characteristics', 'raid', 'identical', 'jodie', '1944', 'wong', 'loy', '1982', 'eventual', 'irene', 'hindi', 'readers', '1953', 'dragons', 'zorro', 'caron', 'senior', 'harriet', 'jules', 'churn', 'depths', 'mama', 'stud', 'filthy', 'respectable', 'offbeat', 'syndrome', 'lola', 'stray', 'cyborg', 'unimaginative', 'foolish', 'spencer', 'fragile', 'esquire', 'sack', 'deliberate', 'barbra', 'sf', 'anil', 'classy', 'berkeley', 'pegg', 'isolation', 'breakdown', 'sublime', 'dustin', 'deanna', '1998', 'expectation', 'divine', 'tremendously', 'nightclub', 'stimulate', 'subway', 'wisely', 'passengers', '1975', 'blaze', 'spout', 'filmmaking', 'spectacle', 'toby', 'jan', 'miranda', 'gentlemen', 'enthusiastic', 'axe', 'noticeable', 'lightning', 'odyssey', 'plug', 'lade', 'decidedly', 'pumbaa', 'principals', 'immortal', 'profile', 'minnelli', 'romeo', 'ridicule', 'rider', 'envy', 'hippies', 'collar', 'timmy', 'fruit', 'thurman', 'reminder', 'franklin', 'filter', 'basket', 'chamber', 'connor', 'outrage', 'incapable', 'hayworth', 'psychopath', 'quentin', 'ugh', 'cheaply', 'werewolves', 'flimsy', 'turd', 'coke', 'spaghetti', 'approve', 'debt', 'sidewalk', '23', 'sydney', 'sentimentality', 'hail', 'volume', 'samantha', 'freaky', 'cal', 'frontier', 'classify', 'overshadow', 'revisit', 'addiction', 'melvyn', 'clay', 'pierre', 'busey', 'hi', 'elect', 'intricate', '300', 'robertson', 'ponder', 'jealousy', 'precede', 'cunningham', 'seymour', 'hadley', 'goods', 'claw', 'lunch', 'diminish', 'destructive', 'ominous', 'parrot', 'ultimatum', 'vintage', 'shepard', 'moron', 'conveniently', 'salvage', 'stephanie', 'joint', 'whiny', 'cape', 'excruciatingly', 'quantum', 'karate', 'gamera', 'tendency', 'inmates', 'daisy', 'vanilla', 'ricky', 'rainy', 'theories', 'collette', 'morals', 'coffin', 'torch', 'apologize', 'incorrect', 'distort', 'furniture', 'rerun', 'aussie', 'obsessive', '1934', 'peaceful', 'havoc', 'dukes', 'aggressive', 'turmoil', 'discipline', 'bikini', 'dame', 'tourist', 'weary', 'bachchan', 'sarcastic', 'juliette', 'exceed', 'stella', 'arguments', 'august', 'draft', 'goals', 'hannah', 'liam', 'harbor', 'indiana', 'squeeze', 'establishment', 'sanders', 'download', 'warp', 'niven', 'bucket', 'fairbanks', 'surrender', 'deputy', 'longoria', 'herman', 'intentional', 'bounty', 'fassbinder', 'unsatisfying', 'overblown', 'ranch', 'immense', 'sucker', 'horny', 'archive', 'allege', 'vince', 'jenna', 'grandma', 'cliffhanger', 'shore', 'europeans', 'splash', 'cutter', 'redundant', 'goodbye', 'carnage', 'mystical', 'insomnia', 'sigh', 'commitment', 'patch', 'jolie', 'routines', 'invade', 'schneider', 'hyper', 'predictably', 'psychologist', 'salesman', 'rebellious', 'korea', 'traits', 'opt', 'integrate', 'bum', 'tolerable', 'realization', 'adaption', 'angie', 'optimistic', 'bogart', 'chiba', 'clooney', 'neighbour', 'passage', 'anguish', 'ghetto', 'wine', 'herbert', 'thelma', 'gilbert', 'undergo', 'lethal', 'rowlands', 'jury', 'hybrid', 'jersey', 'vega', 'afterward', 'shootout', 'lang', 'subtext', 'clive', 'sarandon', 'consideration', 'palm', 'mug', 'serum', 'starve', 'fascist', 'demille', 'peculiar', 'debbie', 'drill', '\\x97', 'rivers', 'spear', 'gielgud', 'legitimate', 'virtual', 'jacques', 'adrian', 'license', 'graveyard', 'mormon', 'arquette', 'collective', 'dramatically', 'reinforce', 'overboard', 'morons', 'hooper', 'chong', 'cuban', 'relentlessly', 'complement', 'phenomenal', 'sorrow', 'gibson', 'blink', 'courtroom', 'gershwin', 'arkin', 'verbal', 'mythology', 'iturbi', 'anytime', 'medieval', 'vault', 'sammo', 'depart', 'owl', 'lionel', 'kathy', 'burden', 'skilled', 'lace', 'colman', 'unsympathetic', 'allure', 'rea', 'python', 'distraction', 'monologue', 'haines', 'diverse', 'strict', 'sixth', 'georgia', 'feminine', 'anthology', 'propose', 'newcomer', 'eagle', 'marilyn', 'sunrise', 'consciousness', 'crop', 'madsen', 'ritual', 'vanity', 'olds', 'upside', 'elliott', '1967', 'skinny', 'hateful', 'swell', 'inch', 'puppy', 'verdict', 'mole', 'dumber', 'pedestrian', 'dahmer', 'meal', 'deliciously', 'brainless', 'otto', 'mortal', 'foundation', 'nun', 'employee', 'sour', 'hound', 'instincts', 'shockingly', 'pfeiffer', 'gooding', 'prevail', 'amidst', 'dynamics', 'laputa', 'invention', 'professionals', 'satisfaction', 'calculate', 'nuances', 'olivia', 'denise', 'bonnie', 'crave', 'drab', 'moss', 'israeli', 'heighten', 'cab', 'sundance', 'possession', 'seductive', 'cherish', 'delightfully', 'forties', 'regularly', 'fallon', 'volunteer', '85', 'beckinsale', 'penelope', 'sheen', 'feeble', 'void', 'doyle', 'psyche', 'republic', 'lowe', 'recite', 'immigrant', 'ira', 'cannes', 'lucille', 'gaze', 'meantime', 'sap', 'novelty', 'policy', 'martian', 'pathos', 'sailor', 'intertwine', 'readily', 'mysteriously', 'symbol', 'cigarette', 'fluid', 'contestants', 'hooker', 'um', 'wheelchair', 'tactics', 'diary', 'explosive', 'dillinger', 'retrieve', 'juan', 'darth', 'unusually', 'indifferent', 'predator', 'degrees', 'embarrassingly', 'july', 'meteor', 'rapid', 'fuzzy', 'shah', 'dispatch', 'viewpoint', 'biker', 'branch', 'fanatic', 'columbia', 'auto', 'deed', 'arrow', 'agony', 'gloria', 'stern', 'debra', 'followers', 'aftermath', 'cameraman', 'vera', 'kris', 'economic', 'screwball', 'ordeal', 'hurry', 'starters', 'pros', 'medicine', 'wider', 'rosario', 'statements', 'intact', 'products', 'cindy', 'noteworthy', 'dumbest', 'assignment', 'tomei', 'gwyneth', 'tcm', '1948', 'lamb', 'privilege', 'anxious', 'inaccuracies', 'sondra', 'idol', 'ny', 'centuries', 'detroit', 'convention', 'serials', 'additionally', 'guinea', 'truths', 'degenerate', 'alot', 'cram', 'tho', 'excruciate', '1992', '101', 'frost', 'nauseate', 'creasy', 'cliched', 'eli', 'meyer', 'obstacles', 'wright', 'retell', 'galactica', 'edison', 'sarcasm', 'session', 'macdonald', 'informative', 'jose', 'geek', 'campus', 'deck', 'artistry', 'corey', 'northam', 'unanswered', 'manners', 'beetle', 'arouse', 'detach', 'controversy', 'visconti', 'frantic', 'executives', 'soprano', 'grieve', 'simpsons', 'edith', 'goodman', 'shaggy', 'suspicion', 'likeable', 'thunder', 'inclusion', 'strangle', 'slim', 'gallery', 'roughly', 'relieve', 'godard', 'tomb', 'brow', 'dominic', 'casablanca', 'regain', 'enigmatic', 'intro', 'originals', 'incidents', 'reek', 'greene', 'daylight', 'mick', 'delay', 'muslims', 'ps', 'cody', 'consequently', 'arty', 'phoenix', 'rice', 'flavia', 'goldie', 'rational', 'snowman', 'wayans', 'maureen', 'kathleen', 'collins', 'sober', 'saloon', 'sway', 'tattoo', 'boost', 'therapy', 'mourn', 'uncanny', 'choir', 'paranoid', 'factual', 'coma', 'consequence', 'determination', 'guardian', 'apt', 'denouement', 'destination', 'intensely', 'stiles', 'frances', 'realistically', 'alliance', 'redneck', 'county', 'dreamy', 'sly', 'caper', 'reiser', 'fulfill', 'harden', 'duh', 'vonnegut', 'stance', 'momentum', 'eagerly', 'bald', 'delirious', 'festivals', 'depictions', 'antagonist', 'tailor', 'exclusively', 'cloak', 'iranian', 'stardust', 'sweden', 'spotlight', 'imprison', 'beckham', 'johansson', 'sterling', 'investigator', 'relevance', 'robbers', 'playwright', 'warehouse', 'sebastian', 'harrow', 'heath', 'submarine', 'brat', 'compound', 'geisha', 'apple', 'roam', 'hostel', 'hmmm', 'dispose', 'mccarthy', 'abortion', 'murky', 'warden', 'battlestar', 'precise', 'russo', 'splice', 'randall', 'hostage', 'coburn', 'bauer', 'comeback', 'midst', 'adele', 'inter', 'imaginary', 'ww2', 'politicians', 'awareness', 'occult', 'du', 'participants', 'isabelle', 'curiously', 'sonny', 'shotgun', 'foremost', 'replacement', 'brooke', 'scenarios', 'characterisation', 'injury', 'ambiguity', 'giovanna', 'necessity', 'blaise', 'scarlet', 'paragraph', 'myrtle', 'dafoe', 'gus', 'omar', 'veterans', 'weep', 'baron', 'overs', 'hmm', 'district', 'can', 'mandy', 'collector', 'periods', 'sensibility', 'finney', 'natali', 'decay', 'lastly', 'diner', 'sock', 'fellini', 'lens', 'capacity', '1951', 'gigantic', 'brides', 'brett', 'apocalyptic', 'hysterically', 'barney', 'boggle', 'bennett', 'talky', 'feinstone', 'communication', '1943', 'loren', 'paths', 'quasi', 'gackt', 'sho', 'lunatic', 'lopez', 'resistance', 'sg', 'faux', 'sunset', 'erase', 'goat', 'rohmer', 'hawn', 'paste', 'grendel', 'slater', 'unstable', 'meredith', 'payoff', 'overbear', 'ample', 'eh', 'apocalypse', 'angelina', 'platform', 'diego', 'convent', 'remainder', 'hines', 'slum', 'olsen', 'nuanced', 'homicidal', 'tightly', 'ferrell', 'cater', 'gloomy', 'sufficient', 'prophecy', 'vignettes', 'psychedelic', 'iq', 'substantial', 'composition', 'avid', 'stadium', 'mash', 'disco', 'girlfriends', 'laboratory', 'unclear', 'trauma', 'shahid', '1963', 'mins', 'riddle', 'kristofferson', '1932', 'complications', 'blockbusters', 'characterizations', 'epics', 'marisa', 'rupert', 'locke', 'subdue', 'slashers', 'benjamin', 'incest', 'mumble', 'nightmarish', 'ins', 'je', 'stride', 'anita', 'rodriguez', 'limp', 'voyager', 'upcoming', 'gosh', 'brent', 'suppress', 'october', 'dynamite', 'massey', 'martino', 'jude', 'silverman', 'shriek', 'revival', 'eyeball', 'safely', 'supreme', 'brien', 'jagger', 'aaron', 'misty', 'loop', 'videotape', '1955', 'spew', 'biopic', 'watcher', 'extensive', 'kells', 'blandings', 'smuggle', 'carlos', 'overuse', 'russ', 'skeptical', 'vivian', 'manufacture', 'scan', '1958', 'favourites', 'excellence', 'essay', 'rourke', 'orchestra', 'bernsen', 'versa', 'stagger', 'butterfly', 'hitch', 'merry', 'organization', 'upstairs', 'engine', 'dock', 'coward', 'bonanza', 'slower', 'diversity', 'morph', 'outlandish', 'pornography', 'madeleine', 'valid', 'murderers', 'courtesy', 'artemisia', 'boundaries', '27', 'fortunate', 'gorilla', 'mutate', 'pivotal', 'clunky', 'marcel', 'exploitative', 'thailand', 'interior', 'moan', 'weekly', 'fling', 'baddies', 'caretaker', 'observations', 'brashear', 'phantasm', 'array', 'protection', 'sync', 'doug', 'visitor', 'boogie', 'observation', 'mannered', 'turkish', 'evans', 'carpet', 'lo', 'crank', 'marine', 'interpretations', 'novelist', 'cena', 'plate', 'nutshell', 'gannon', 'samuel', 'rouse', 'wee', 'skirt', 'sara', 'conductor', 'landmark', 'travis', 'neal', 'obscurity', 'pecker', '26', 'ripoff', 'bonham', 'famed', 'pimp', 'arrogance', 'maximum', 'ernie', 'wartime', 'understatement', 'monotonous', 'sheep', 'rightly', 'manipulation', 'bittersweet', 'daytime', 'accidental', 'entries', 'armor', 'chaotic', 'scatter', 'satanic', 'sincerity', 'duchovny', 'vargas', 'fundamental', 'sanity', 'somethings', 'chandler', 'reagan', 'madison', 'stitch', 'balloon', 'guevara', 'misfire', 'unhinge', 'similarity', 'ninety', 'jackman', 'slavery', 'gloss', 'cedric', 'gino', 'customers', 'colleague', 'garfield', 'conceal', 'trivial', 'smug', 'villainous', 'janet', 'dip', 'cocaine', 'portuguese', 'fiancée', 'peggy', 'unnatural', 'thereby', 'wrestler', 'magically', 'commendable', 'unappealing', 'inadvertently', 'nora', 'tramp', 'luzhin', 'sherlock', 'scarecrows', 'ursula', 'sholay', 'ajay', 'sylvia', 'reluctantly', 'prolong', 'seth', 'subsequently', 'hugo', 'grease', 'sail', 'comparable', 'lara', 'understandably', 'hallmark', 'ala', 'kirsten', 'lighten', 'celebrities', 'spontaneous', 'capitalize', 'quintessential', 'mimic', 'atlantic', 'aesthetic', 'unfamiliar', 'traditions', 'incline', 'dam', 'hostile', 'scarlett', 'tin', 'closure', 'forgiveness', 'sitcoms', 'fetish', 'redford', 'jo', 'devotion', 'takashi', 'wholesome', 'exude', 'myrna', 'characteristic', 'contestant', 'sophia', 'cradle', 'protective', 'extract', 'climatic', 'entice', 'belle', 'elicit', 'filmography', 'caprica', 'ooze', 'shameless', 'voodoo', 'chloe', 'cheerful', 'dangerously', 'liotta', 'castro', 'achievements', 'resonate', 'clarity', 'barker', 'dallas', 'dreyfuss', 'suzanne', 'elsa', 'deeds', 'beers', 'motel', 'glossy', 'puke', '2009', 'bolt', 'transparent', 'pizza', 'traumatic', 'egyptian', 'bert', 'sleuth', 'convenient', 'chock', 'deathtrap', 'straw', 'incestuous', 'serbian', 'zodiac', 'burial', 'seattle', 'kaufman', 'krueger', 'segal', 'hobgoblins', 'tashan', 'conclusions', 'sexist', 'abundance', 'meadows', 'infinitely', 'bronte', 'regime', 'cells', 'redgrave', 'admission', 'busby', 'rampant', 'whimsical', 'facility', 'gena', 'pornographic', 'slut', 'coal', 'adjust', 'earliest', 'nest', 'sheridan', 'coolest', 'oblivious', 'garage', 'tits', 'rebellion', 'melancholy', 'mold', 'brawl', 'ealing', 'titular', 'jabba', 'admirer', 'shameful', 'unnecessarily', 'taut', 'mamet', 'monica', 'practical', 'harron', 'almighty', 'cease', 'philo', 'honour', 'preacher', 'oprah', 'kindly', 'restraint', 'polar', 'sting', 'shelve', 'constraints', 'bloodbath', 'fritz', 'imho', 'senator', 'awry', 'booth', 'hesitate', 'espionage', 'unconventional', 'juice', '1946', 'quirk', 'tess', 'runaway', 'holt', 'impersonate', 'val', 'govinda', 'endeavor', 'informer', 'henchmen', 'byron', 'fraud', 'faye', 'ernest', 'babes', 'sales', 'shannon', 'sickness', 'gypsy', 'grandpa', 'creations', 'plead', 'ideals', 'pia', 'miraculously', 'semblance', 'se', 'roach', 'beforehand', 'monroe', 'han', 'wesley', 'fragment', 'kinski', 'botch', 'letdown', 'shrek', 'raunchy', 'cheech', 'strap', 'vapid', 'programme', 'travolta', 'ghostly', 'deteriorate', 'sane', 'lil', 'spaceship', 'martians', 'dunst', 'upbeat', 'criticisms', 'embody', 'quaint', 'sergio', '1966', 'permanent', 'macmurray', 'monks', 'madman', 'failures', 'perplex', 'dwight', 'pauline', 'circa', 'battlefield', 'sabotage', 'buffy', 'overtones', 'depardieu', 'zelah', 'blondell', 'edmund', 'gretchen', 'escort', 'assistance', 'superstar', 'gandolfini', 'lindy', 'norton', 'wherever', 'toxic', 'colony', 'vcr', 'outdo', 'crowe', 'caution', 'flourish', 'ambiance', 'hark', 'lubitsch', 'payne', '1000', 'sob', 'dyke', '98', 'uneasy', 'luc', '1957', 'outrageously', 'arch', 'mud', 'tent', 'demeanor', 'desk', 'openly', 'vow', 'underdevelop', 'egypt', 'mister', 'arnie', 'lapse', 'meek', 'liner', 'coop', 'dictator', 'theodore', 'sample', 'aniston', 'mart', 'variation', 'marvin', 'presidential', 'deepest', 'hometown', 'staple', 'benny', 'robotic', 'sixteen', 'fiend', 'bout', 'censorship', 'fodder', 'radiation', 'seuss', 'ghastly', 'reform', 'englund', 'paycheck', 'croc', 'assert', 'incidental', 'mack', 'forrest', 'reckon', 'log', 'electronic', 'admiration', 'streak', 'halt', 'dern', 'bodyguard', 'fagin', 'unnerve', 'beam', 'beaver', 'suave', 'mediocrity', 'enormously', 'wink', 'patty', 'impend', 'wu', 'poet', 'esteem', 'ninjas', 'peckinpah', 'whisper', 'feather', 'simulate', 'prone', 'dom', 'mira', 'clyde', 'email', 'fitzgerald', 'farrah', 'mega', 'wisecrack', 'dramatize', 'darkly', 'sensual', 'slay', 'experts', 'dante', 'sponsor', 'purse', 'bid', 'yarn', 'liberate', 'offense', 'mustache', 'vincenzo', 'nineties', 'client', 'swamp', 'badness', 'chant', 'disappearance', 'knees', 'retreat', 'connie', 'bicker', 'revolver', 'principles', 'helmet', 'foreshadow', 'stepmother', 'vigilante', 'epitome', 'atrocity', 'loner', 'britney', 'progression', 'hanzo', 'policemen', 'everett', 'automatic', 'midget', 'prologue', 'repair', 'melbourne', 'coppola', 'distinction', 'rework', 'stomp', 'groom', 'wrinkle', 'dope', '1949', 'fairness', 'alligator', 'brazilian', 'brit', 'vaughn', 'courageous', 'idealistic', 'investment', 'gig', 'paz', 'flush', 'marijuana', 'abomination', 'farnsworth', 'hijack', 'myra', 'digest', 'meter', 'recur', 'boogeyman', 'cassie', 'signature', 'bastard', 'succumb', 'riders', 'harilal', 'dillon', 'emmy', 'sammy', 'ravish', 'magazines', 'data', 'ostensibly', 'yank', 'helena', 'conjure', 'rivalry', 'commend', 'weirdness', 'gi', 'panahi', 'effortlessly', 'tissue', 'classmates', 'stamp', 'marcus', 'sandy', 'prostitution', 'bartender', 'alba', 'della', 'forsythe', 'reese', 'vibe', 'stem', 'interiors', 'symbols', 'liberty', 'dissolve', 'sniff', 'mastermind', 'crumble', 'auteur', 'economy', 'groove', 'cohesive', 'socially', 'spoon', 'ang', 'concentration', 'counterparts', 'shatner', 'elephants', 'maurice', 'december', 'distinctive', 'employees', 'geoffrey', 'rail', 'lap', 'crow', 'gown', 'pickup', 'bimbo', 'palestinian', 'division', 'damsel', 'believability', 'barnes', 'rodney', 'sensitivity', 'shorten', 'irving', 'outset', 'shudder', 'woefully', 'categories', 'jumble', 'clinic', 'ing', 'asset', 'annoyance', 'trump', 'shack', 'lindsey', 'mobster', 'norris', 'plummer', 'clarence', 'shamble', 'frat', 'kareena', 'burgess', 'mae', 'katie', 'alexandra', 'inconsistencies', 'dictate', 'allan', '250', 'brandon', 'peek', 'sensibilities', 'bing', 'theatres', '1965', 'playful', 'swiss', '500', 'judgement', 'uncertain', 'escalate', 'daria', '1942', 'prompt', 'brick', 'cockney', 'officially', 'undo', 'manic', 'hairy', 'malden', 'terrorism', 'apartheid', 'fabric', 'ewoks', 'permit', 'fawcett', 'sibling', 'culkin', 'violate', '1920', 'seduction', 'anxiety', 'archer', 'ali', 'funky', 'morse', 'intersperse', 'brainwash', 'retro', 'kalifornia', 'throne', 'influential', 'sammi', 'latino', 'pompous', 'systems', 'intimidate', 'starship', 'troopers', 'perspectives', 'tolerance', 'muni', 'lighthearted', 'gruff', 'laser', 'manga', 'midler', 'warhols', 'downfall', 'booze', 'apollo', 'fiery', 'joshua', 'glenda', 'kilmer', 'retirement', 'hans', 'guru', 'hilton', 'predecessors', 'screenplays', 'interlude', 'wreak', 'abduct', 'attendant', 'fold', 'animator', 'zu', 'noam', 'decapitate', 'seriousness', 'perverse', 'injustice', 'pam', 'bogdanovich', 'recapture', 'shocker', 'telegraph', 'floriane', 'tango', 'keanu', 'lin', 'crypt', 'cruella', 'jigsaw', 'ss', 'drool', 'abu', 'islands', 'reno', 'mercifully', 'heather', 'placement', 'ax', 'ads', 'hale', 'prospect', 'jewelry', 'lurid', 'correctness', 'kramer', 'reckless', 'raft', 'fighters', 'chen', 'bloodshed', 'adultery', 'confession', 'natasha', 'thereafter', 'gladiator', 'captive', 'forebode', 'lt', 'winners', 'gen', 'dealers', 'towns', 'supermarket', 'inexperienced', 'assassinate', 'interplay', 'justification', 'collaboration', 'cunning', 'handy', 'fierce', 'cement', 'tasty', 'bio', 'mostel', 'monday', 'locale', 'virtue', 'dizzy', 'shaun', 'diaz', 'standpoint', 'superfluous', 'hypnotic', 'snail', 'fiasco', 'scorpion', 'sensational', 'impressions', 'lions', 'chevy', 'infest', 'decency', 'simba', 'willy', 'stripper', 'ceremony', 'berenger', 'czech', 'romania', 'mythical', 'dunne', 'toro', 'todays', 'bewilder', 'undercover', 'monologues', 'kusturica', 'surgeon', 'beth', 'drummer', 'vertigo', 'cowardly', 'henderson', 'pertwee', 'rosenstrasse', 'lars', 'widower', 'revel', 'lick', 'thorn', 'reside', 'baddie', 'opposition', 'toole', 'lizard', 'henchman', 'tread', 'scarier', 'abstract', 'amid', 'forbes', 'hallucinations', 'lanza', 'uptight', 'orlando', 'geniuses', 'restrict', 'russians', 'attic', 'squander', 'willingly', 'fur', 'nearest', 'overwrought', 'brennan', 'thereof', 'hypnotize', 'skate', 'hawaii', 'cannibals', 'shuffle', 'scriptwriter', 'gee', 'bitchy', 'sophistication', 'drastically', 'jurassic', 'ceiling', 'marines', 'bart', 'honey', 'luxury', 'barton', 'stricken', 'aircraft', 'muriel', 'communism', 'luthor', 'connive', 'tina', 'villa', 'bigfoot', 'euro', 'awfulness', 'kornbluth', 'deborah', 'downbeat', 'erupt', 'slot', 'maugham', 'jerky', 'representative', 'pulse', 'posh', 'wrongly', 'pub', 'sleeper', 'dedication', 'federal', 'thug', 'accomplishment', 'deceive', 'finely', 'mcdermott', 'rudd', '1964', 'grady', 'corbin', 'genetic', 'attain', 'devise', 'weaver', 'dickinson', 'ratio', 'flare', 'richly', 'azumi', 'sensation', 'optimism', 'dodgy', 'artistically', 'denial', 'engagement', 'gently', 'mac', 'abroad', 'fuss', 'icy', 'icons', 'ballroom', 'liberties', 'gusto', 'mastroianni', 'gravity', 'aura', 'potent', 'liar', 'kings', 'hoover', 'profoundly', 'millennium', 'clockwork', 'weigh', 'intelligently', 'vaudeville', 'lansbury', 'hunky', 'missions', 'lila', 'nifty', 'identities', 'jew', 'tug', 'bon', 'bliss', 'aime', 'sleepwalk', 'significantly', 'dukakis', 'moonstruck', 'romanian', 'celeste', 'groundbreaking', 'cheung', 'mcdowell', 'schwarzenegger', 'pleasures', 'sleepy', 'continuously', 'bicycle', 'capitalism', 'animations', 'labour', 'loony', 'dopey', 'tsui', 'stevenson', 'verse', 'penis', 'allude', 'traumatize', 'ossessione', 'overplay', 'applause', 'sprinkle', 'rogue', 'bishop', 'raven', 'maturity', 'golf', 'caruso', 'temptation', 'continent', 'ebay', 'granger', 'showcases', 'chemical', 'athletic', 'garde', 'ledger', 'mutants', 'shrill', 'anonymous', 'vienna', 'irrational', 'developments', 'officials', 'uninspiring', 'grossly', 'penguin', 'intellectually', 'predictability', 'melinda', 'sasquatch', 'zeta', 'sorvino', 'idiocy', 'uncredited', 'thirds', 'reportedly', 'marx', 'cheesiness', 'efficient', 'virginity', 'lds', 'prophet', 'alcoholism', 'heroin', 'doris', 'ranger', 'dogma', 'harp', 'veer', 'rizzo', 'oblivion', 'disdain', 'civilians', 'valerie', 'zhang', 'cortez', 'mcadams', 'jolly', 'keeper', 'chart', 'gossip', 'shawn', '1920s', 'zealand', 'hazzard', 'bloke', 'satisfactory', 'cynicism', 'explanations', 'hustler', 'cracker', 'notwithstanding', 'lorre', 'elliot', 'cloth', 'holland', 'carnival', 'swift', '1938', 'corridors', 'kingsley', 'brunette', 'fewer', 'pond', 'clutch', 'kenny', 'goo', 'prolific', 'relish', 'elder', 'preferably', 'throats', 'gung', 'unwilling', 'chunk', 'righteous', 'shady', 'plunge', 'thwart', 'mattei', 'omit', 'mismatch', 'portman', 'autobiography', 'deservedly', 'dani', 'legion', 'cod', 'upbringing', 'extraordinarily', 'propel', 'trumpet', 'peterson', 'devour', 'witted', 'snowy', 'izzard', 'sykes', 'chang', 'youngsters', 'sore', 'heavenly', 'mechanic', 'violently', 'cinematographic', 'canvas', 'penalty', '48', 'ongoing', 'visceral', 'rko', 'harvest', 'atomic', 'bearable', 'liz', 'percent', 'tolkien', 'sabu', 'sloane', 'aboard', 'transformers', 'nonexistent', 'loom', 'condescend', 'ahmad', 'celine', 'languages', 'elmer', 'simpler', 'lesbians', 'ogre', 'distinctly', 'billion', 'supportive', 'booker', 'michaels', 'hogan', 'taker', 'hurl', 'lawn', 'levy', 'lump', 'scandal', 'rapture', 'harass', 'lightweight', 'greenaway', 'patriotic', 'herrings', 'pavarotti', 'hammerhead', 'tedium', 'shiny', 'keitel', 'nt', 'tremor', 'welch', 'sarne', 'gram', 'angelo', 'tobe', 'believer', 'innuendo', 'animators', 'quibble', 'volumes', 'maverick', 'hungarian', 'dietrich', 'eddy', 'monastery', 'contend', 'illusion', 'criticise', 'climate', 'dental', '1931', 'durbin', 'dangers', 'govern', 'overtly', 'coleman', 'immigrants', 'annoyingly', 'alienation', 'found', 'mandatory', 'cillian', 'agatha', 'christensen', 'irresistible', 'proudly', 'elisha', 'urgency', 'ferry', 'denver', 'backwoods', 'quip', 'import', 'trendy', 'flamboyant', 'teddy', 'ditch', 'insignificant', 'passenger', 'pip', 'darius', 'muscular', 'coverage', 'fable', 'flicker', 'headline', 'mcgavin', 'symbolize', 'relive', 'shakespearean', 'conquest', 'babble', 'neeson', 'intervene', 'heartless', 'amoral', 'khouri', 'rehearse', 'knives', 'zany', 'beef', 'wrath', 'unconscious', 'afghanistan', 'seventh', 'leno', 'dominick', 'gays', 'association', 'jolt', 'empathize', 'notions', 'ae', 'chef', 'slack', 'metropolis', 'swords', 'barbarian', 'electricity', 'vulnerability', 'deadpan', 'recipe', 'compositions', 'happier', 'maguire', 'heir', 'pistol', 'priests', 'grisly', 'breakthrough', 'astonishingly', 'meyers', 'harlin', 'whistle', 'stoop', 'crenna', 'moderately', 'disasters', 'marjorie', 'caesar', 'cousins', 'needlessly', 'mockery', 'nerdy', 'scam', 'sematary', 'succession', 'ecstasy', 'korda', 'architect', 'numbingly', 'pasolini', 'theo', 'aztec', 'lommel', 'delia', 'cristina', 'pawn', 'steamy', 'crass', 'posture', 'jock', 'bruckheimer', 'backdrops', 'passions', 'capsule', '400', 'underscore', 'amok', 'intellect', 'squirm', 'lament', 'unemployed', 'borderline', 'rico', 'sailors', 'temporary', 'darling', 'specialize', 'smirk', 'keeler', 'zabriskie', 'hopeful', 'islam', 'impeccable', 'daphne', 'largest', 'academic', 'compassionate', 'opponents', 'truthful', 'heavens', 'adequately', 'worldwide', 'management', 'demean', 'connolly', 'constitute', 'rebecca', 'breathless', 'behalf', 'chocolate', 'custody', 'inc', 'duff', 'farewell', 'roads', '1941', 'mpaa', 'nutty', 'cramp', 'existential', 'undress', 'circuit', 'counterpart', 'architecture', 'unlucky', 'versatile', 'roommates', 'paraphrase', 'smarmy', 'carve', 'lange', 'chapters', 'tourists', 'seinfeld', 'irresponsible', 'harlem', 'underline', 'passive', 'carface', 'batwoman', 'soak', 'gage', 'hedy', 'lawyers', 'wolves', 'characterize', 'infuse', 'hare', 'downtown', 'il', 'frenzy', 'mj', 'callahan', 'italians', 'janitor', 'honeymoon', 'naval', 'perpetuate', 'tucker', 'kiddie', 'hector', 'peep', 'insects', 'rusty', 'rig', 'rugged', 'assortment', 'jed', 'continuous', 'crouch', 'lightly', 'stature', 'administration', 'limbs', 'duryea', 'supremacy', 'corky', 'micheal', 'drivers', 'discount', 'philadelphia', 'locales', 'wai', 'orgy', 'astronaut', 'aweigh', 'benoit', 'undertaker', 'deathstalker', 'kamal', 'backyard', 'wwi', 'affirm', 'reload', 'masquerade', 'irwin', 'morgana', 'mutilate', 'shamelessly', 'danning', 'saif', 'kinky', 'sandwich', '1935', 'satellite', 'pod', 'stoltz', 'permeate', 'candidates', 'revelations', 'dime', 'hardest', 'hispanic', 'sessions', 'marlene', 'honorable', 'arizona', 'wits', 'allison', 'lieutenant', 'fairytale', 'opener', 'jackass', 'corleone', 'viggo', 'subtleties', 'knack', 'switzerland', 'revere', 'usage', 'cocky', 'discussions', 'carole', 'taunt', 'customs', 'apprentice', 'askey', 'platoon', 'hamill', 'psychiatric', 'boyfriends', 'maiden', 'jessie', 'mo', 'bravery', '18th', 'vivah', 'leia', 'garcia', 'illiterate', 'crouse', 'casually', 'infidelity', 'forgivable', 'palette', 'carson', 'hayward', 'azaria', 'trim', 'stubborn', 'barman', 'smite', 'kriemhild', 'flea', 'fleming', 'ella', 'oppressive', 'lung', 'speechless', 'dahl', 'undeveloped', 'approximately', 'telly', 'atrocities', 'didnt', 'aiello', 'witherspoon', 'saddest', 'contradict', 'it´s', 'plantation', 'levant', 'joanna', 'democracy', 'supporters', 'incompetence', 'marathon', 'creepiness', 'smarter', 'january', '1956', 'lamarr', 'vic', 'shun', 'sleeve', 'glee', 'intruder', 'entertainer', 'exile', 'promotion', 'disconnect', 'berry', 'gimmicks', 'uber', 'donate', 'logo', 'slew', 'villagers', 'poo', 'bolivia', 'napoleon', 'dismay', 'cbc', 'choreographer', 'leak', 'conception', 'cocktail', 'tel', 'swap', 'lotr', 'brits', 'historians', 'astronauts', 'curve', 'footsteps', 'smoothly', 'dye', 'lovingly', 'rehearsal', 'sans', 'sheila', 'telephone', 'jameson', 'grandparents', 'mcintire', 'reconcile', 'prevalent', 'rainer', 'rhys', 'knox', 'fugitive', 'macbeth', 'kindness', 'reminisce', 'muddy', 'stupidest', 'lyrical', 'snoop', 'restless', 'pita', 'refund', 'cheaper', 'shaolin', 'eater', 'disgruntle', 'discernible', 'benson', 'dreadfully', 'leary', '700', 'diabolical', 'longtime', 'oddball', 'monstrous', 'growl', 'mend', 'itchy', 'reception', 'surfers', 'incarnation', 'basil', 'looney', 'sixty', 'exhilarate', 'spectacularly', 'friendships', 'brink', 'abide', 'stoic', 'beau', 'snippets', 'vengeful', 'tensions', 'schumacher', 'horizon', 'snappy', 'lombard', 'admirably', 'duties', 'merrill', 'diver', 'til', 'encompass', 'leopold', 'spellbind', 'montages', 'alternately', 'miracles', 'weirdo', 'witless', 'oriental', 'thankful', 'renew', 'strikingly', 'zatoichi', 'enrage', 'november', 'picnic', 'drifter', 'foch', 'dane', 'sant', 'sr', 'deception', 'requisite', 'shiver', 'stable', 'overt', 'societies', 'interweave', 'daisies', 'superiors', 'lamas', 'operas', 'norwegian', '1937', 'mindset', 'anchorman', 'suggestive', 'railroad', 'marquis', 'reincarnation', 'sparse', 'capt', 'grain', 'participation', 'psychologically', 'criminally', 'thaw', 'discard', 'hunk', 'byrne', 'maclean', 'flounder', 'apartments', 'untrue', 'liza', 'kentucky', '33', 'hiv', 'technological', 'hubby', 'insanely', 'motor', 'dusty', 'transmit', 'nuance', 'adventurous', 'bass', 'tangle', 'grumpy', 'scantily', 'virtues', 'spectrum', 'radar', 'gym', 'misplace', 'underdog', 'rightfully', 'noah', 'summon', 'coin', 'veil', 'agonize', 'regal', 'obscene', 'dense', 'punctuate', 'penetrate', 'divert', 'intestines', 'fanatics', 'undertake', 'blaine', 'partial', 'emote', 'wellington', 'articulate', 'werner', 'manifest', 'winston', 'strut', 'argento', 'wolverine', '86', 'cathy', 'overseas', 'monstrosity', 'organs', 'proverbial', 'munchies', 'blackie', 'lucio', 'baseketball', 'clumsily', 'dial', 'dung', 'scrub', 'leer', 'infuriate', 'newcombe', 'kerr', 'thinner', 'btk', 'darkman', 'fantastically', 'wallach', 'coarse', 'decorate', 'skywalker', 'surrogate', 'commission', 'overnight', 'eleanor', 'underused', 'confederate', '1962', 'mortensen', '1954', 'stefan', 'marital', 'forum', 'dignify', 'tigerland', 'extremes', 'orphanage', 'nielsen', 'chalk', 'desolate', 'showtime', 'downside', 'sweetheart', 'babysitter', 'frenetic', '150', 'affections', 'marvellous', 'aristocrat', 'masturbation', 'wondrous', 'sorta', 'shadowy', 'dupe', 'atwill', 'townspeople', 'envision', 'veronica', 'colourful', 'thirteen', 'willem', 'holden', 'albums', 'consummate', 'rocker', 'allegedly', 'taint', 'exclude', 'unrated', 'ewan', 'lam', 'competently', 'renowned', 'chairman', 'societal', 'toll', 'crummy', 'nerds', 'planets', 'rigid', 'primal', 'poppins', 'mischievous', 'monumental', 'knit', 'undertones', 'venezuela', 'colonial', 'cambodia', 'catastrophe', 'harmony', 'inheritance', 'keyboard', 'eponymous', 'finch', 'norma', 'renoir', 'litter', 'caroline', 'apologies', 'expertise', 'nana', 'episodic', 'trelkovsky', 'kermit', 'bryan', 'throwaway', 'voters', 'seclude', 'kit', 'di', 'chore', 'prototype', 'darken', 'strangest', 'recreation', 'operatic', 'allegory', 'typecast', 'krishna', 'locker', 'tasteful', 'fernando', 'saturate', 'runtime', 'hockey', 'interfere', 'shue', 'gardner', 'gamut', 'hatch', 'malcolm', 'exaggeration', 'greta', 'indifference', 'nuns', 'molest', 'congratulate', 'transpire', 'wal', 'rally', 'darkest', 'disclose', 'flamenco', 'cleveland', 'variations', 'ideology', 'townsend', 'tepid', 'goer', 'siege', 'universally', 'grail', 'kei', 'iceberg', 'realist', 'bee', 'fathom', 'tow', 'polite', 'piper', 'gum', 'oppress', 'sacred', 'shuttle', 'merge', 'unfinished', 'fireworks', 'troll', 'unborn', 'outta', 'disrespect', 'paperhouse', 'phyllis', 'unimpressive', 'haha', 'turgid', 'shaq', 'unremarkable', 'currie', 'misogynistic', 'trent', 'feud', 'wray', 'yoda', 'fend', 'amateurs', 'canon', 'illuminate', 'bava', 'socialist', 'dummy', 'robbie', 'rathbone', 'smallest', 'speaker', 'gertrude', 'recount', 'librarian', 'hes', 'salem', 'hardships', 'unfairly', 'implement', 'mercilessly', 'eustache', 'nell', 'neutral', 'texture', 'withstand', 'coincidences', 'closeups', 'sullavan', 'enlightenment', 'costner', 'pianist', 'orchestral', 'automobile', 'cassel', 'integral', 'projection', 'erik', '64', 'gladly', 'jumbo', 'chow', 'misfits', 'advocate', 'emulate', 'governor', 'nickname', 'burrow', 'mcdonald', 'nanny', 'charity', 'frye', 'postman', 'holm', 'insecure', 'binoche', 'aunts', 'olympic', 'catalog', 'michel', 'overweight', 'tumble', 'skimpy', '88', 'daft', 'somber', 'bark', 'digress', 'uniquely', 'canoe', 'scum', 'wicker', 'condense', 'maniacal', 'seize', 'pinnacle', 'unsuccessful', 'concoct', 'therapist', 'decoration', 'olympia', 'usher', 'jovi', 'cowboys', 'frenchman', 'dale', 'ka', 'rainbow', 'singin', 'council', 'foley', 'hilliard', 'distributor', 'archie', 'exceedingly', 'sneer', 'outsider', 'misuse', 'geeky', 'sentiments', 'geeks', 'celie', 'retrospect', 'port', 'mcbain', 'muse', 'exemplify', 'shenanigans', 'signify', 'irs', 'kerry', 'motif', 'aviv', 'ashraf', 'commando', 'lithgow', 'minions', 'approval', 'evaluate', 'deform', 'blaxploitation', 'spur', 'soulless', 'unnamed', 'avant', 'vacuous', 'talentless', 'rewind', 'iowa', 'enact', 'hayden', 'sherry', 'threats', 'beta', 'amusingly', 'hickock', 'winslet', 'withdraw', 'jaffar', 'resurrection', 'aspirations', 'menu', 'rabid', 'silhouette', 'balcony', 'ppv', 'bagdad', 'wb', 'banana', 'gilligan', 'ichi', 'roeg', 'maya', 'twenties', 'snore', 'opponent', 'elementary', 'punchline', 'options', 'sleepwalkers', 'prehistoric', 'weed', 'romano', 'pbs', 'unforgivable', 'abominable', 'sybil', 'hanna', 'bathsheba', 'yea', 'jeep', 'arbitrary', 'infant', 'hagar', 'ounce', 'stealth', 'interminable', 'zenia', 'soar', 'crispin', 'cafe', 'beery', 'outlook', 'actuality', 'krell', 'robber', 'megan', 'downward', 'talkie', 'dakota', 'discern', 'subconscious', 'boyish', 'anniversary', 'sordid', 'igor', 'ilk', 'yacht', 'milland', 'outbreak', 'historian', 'om', 'walters', 'freely', 'wagon', 'gadgets', 'heiress', 'tint', 'foreground', 'bathtub', 'pazu', 'sheeta', 'marley', 'cleaner', 'amber', 'surrealism', 'loot', 'chimney', 'twentieth', 'infectious', 'madly', 'conroy', 'offside', 'tenderness', 'restoration', 'hilary', 'furry', 'marriages', 'dench', 'muster', 'coen', 'café', 'instruct', 'cos', 'hagen', 'hunger', 'sadden', 'featurette', 'pullman', 'lifelong', 'gellar', 'tomlinson', 'heritage', 'outdoor', 'refrain', 'opus', 'separation', 'formidable', '1947', 'overpower', 'raiders', 'elegance', 'sterile', 'cent', 'fondness', 'manor', 'artful', 'breeze', 'alain', 'waterfront', 'dexter', 'towel', 'greats', 'pollack', 'steiner', 'stalwart', 'housewives', 'offspring', 'morgue', 'notoriety', 'uneducated', 'traitor', 'lili', 'environmental', 'sorcery', 'galore', 'waterfall', 'grandson', 'ethics', 'hitchhiker', 'rooker', 'positives', 'occupation', 'baxter', 'duncan', 'transvestite', 'partition', 'hesitation', 'zoo', 'impressively', 'loudly', 'triad', 'implications', 'circumstance', 'pope', 'refine', 'intrusive', 'joyous', '1952', 'therein', 'mcgregor', 'ivy', 'patton', 'adelaide', 'shtick', 'kitten', 'denmark', 'gremlins', 'weissmuller', 'yikes', 'abbott', 'cite', 'spouse', 'liquor', 'fort', 'assembly', 'armageddon', 'campers', 'conceit', 'savior', 'excesses', 'billie', 'turturro', 'fiennes', 'manchu', 'impale', 'wendt', 'shaft', 'nicky', 'assassins', 'lumber', 'visitors', 'excrement', 'hartman', 'trot', 'marginally', 'ripley', 'sabretooth', 'manos', 'hackenstein', 'lordi', 'complexities', 'shootouts', 'distributors', 'theft', 'tomato', 'employer', 'bruise', 'ransom', 'brash', 'adulthood', 'eroticism', 'vinnie', 'depalma', 'departments', 'repertoire', 'framework', 'stroll', 'aggression', 'abort', 'moonlight', 'hustle', 'puri', 'fulfillment', 'powerfully', 'plausibility', 'unbearably', 'outcast', 'allusions', 'researcher', 'bench', 'predicament', 'classroom', 'humphrey', 'accentuate', 'ernst', 'pesci', 'warfare', 'sprawl', 'stylistic', 'tighter', 'instructor', 'katherine', 'capshaw', 'labyrinth', 'fanny', 'enforcer', 'escapist', 'raoul', 'newhart', 'malta', 'hindsight', 'familiarity', 'fluffy', 'craziness', 'devious', 'intimacy', 'spook', 'renee', 'mantegna', 'diet', 'rib', 'organ', 'finnish', 'velvet', 'yahoo', 'competitive', 'nacho', 'amiable', 'output', 'jacob', 'perkins', 'superlative', 'inherently', 'houston', 'granddaughter', 'critically', 'commentaries', 'sherman', 'cruz', 'rarity', 'edwards', 'donner', 'dir', 'deconstruct', 'textbook', 'rouge', 'carrier', 'peel', 'domination', 'vietnamese', 'distraught', 'chord', 'palpable', 'calvin', 'roses', 'fabricate', 'tung', 'ivan', 'math', 'fineman', 'den', 'brew', 'cassandra', 'hysteria', 'berserk', 'advertisement', 'prestigious', 'gerald', 'aristocratic', 'bog', '01', 'putrid', 'aplomb', 'expressive', 'demonstration', 'tricky', 'venoms', 'staircase', 'gardener', 'poignancy', 'gomez', 'franchot', 'crusade', 'broderick', 'disability', 'twitch', 'alpha', 'effortless', 'humiliation', 'mormons', 'cyborgs', 'hick', 'erratic', '“', 'magnolia', 'implication', 'prance', 'dispute', 'subversive', 'congratulations', 'memoirs', 'spiderman', 'mist', 'slob', '11th', 'behead', 'shea', '8th', 'pang', 'magnificently', 'benet', 'financially', 'rosie', 'defence', 'monotone', 'mia', 'capra', 'screech', 'ache', 'distasteful', 'recap', 'keller', 'materials', 'corporations', 'esque', 'schtick', 'mcshane', 'seberg', 'narcissistic', 'electrocute', 'impersonation', 'ada', 'haim', 'sophomoric', 'ethel', 'wrestlemania', 'debacle', '77', 'remorse', 'durante', 'stain', 'vamp', 'untalented', 'stupidly', 'scrappy', 'tito', 'devgan', 'savini', 'seller', 'grader', 'marvelously', 'imperial', 'heroism', 'unfaithful', 'gripe', 'tilly', 'contaminate', 'consistency', 'rejection', 'residence', 'lad', 'woeful', 'wanda', 'crater', 'tng', 'aimlessly', 'successes', 'acquit', 'pimlico', 'dilute', 'disillusion', 'originate', 'fourteen', 'lilly', 'formerly', 'techno', 'zelda', 'basics', 'olive', 'plotline', 'nintendo', 'collide', 'resonance', 'comet', 'promotional', 'listener', 'hottest', 'homework', 'dev', 'wry', 'yugoslavia', 'brim', 'vent', 'katsu', 'ck', 'paine', 'cahill', 'mime', 'buscemi', 'lull', 'weir', 'aboriginal', 'chaney', 'lemon', 'childlike', 'iris', 'stowe', 'meditation', 'imaginations', 'penchant', 'arena', 'exclusive', 'luise', 'feisty', 'wince', 'lore', 'employment', 'shoestring', 'ripper', 'appoint', 'ronny', 'gyllenhaal', 'freshman', 'cough', 'deluise', 'thai', 'pardon', 'lorenzo', 'sofia', 'invariably', 'missouri', 'perversion', 'epps', 'dorm', 'isabel', 'fascism', 'accusations', 'emil', 'scriptwriters', 'barn', 'manson', 'chiller', 'wallow', 'abby', 'acquaint', 'troy', 'achilles', 'andrea', 'aptly', 'waiter', 'repellent', 'wallet', 'immoral', 'patriarch', 'google', 'refuge', 'impulse', 'saxon', 'silk', 'eyebrows', 'prayer', 'moviegoers', 'plumb', 'commentator', 'emmanuelle', 'carlyle', 'africans', 'chester', 'avalanche', 'ivory', 'machinery', 'emptiness', 'aimless', 'coincidentally', 'bomber', 'guiness', 'colbert', 'careless', 'disfigure', 'puff', 'moderate', 'forge', '31', 'swayze', 'winger', 'wherein', 'niche', 'goth', 'malevolent', 'foggy', 'bernie', 'biological', 'plump', 'sweetness', 'singleton', 'janeane', 'indulgence', 'selma', '20s', 'swanson', 'raul', 'backstage', 'rebuild', 'soo', 'ne', 'fricker', 'fiona', 'lambert', 'patriotism', 'counsel', 'leadership', 'ludicrously', 'brock', 'noon', 'awkwardly', 'bailey', 'cavalry', 'disservice', 'annual', 'beggar', 'scarcely', 'waqt', 'shooter', 'loan', 'adrenaline', 'atop', 'morbius', 'cam', 'grunt', 'reverend', 'perlman', 'diamonds', 'desi', 'roast', 'tracey', 'ranma', 'cavemen', 'dunaway', 'mraovich', 'kibbutz', 'pregnancy', 'seas', 'starlet', 'handedly', 'enjoyably', '911', 'zoe', 'scenic', 'nitpick', 'hallucination', 'marshal', 'curl', 'drawback', 'parole', 'wyoming', 'skeleton', 'ohio', 'pastor', 'batter', 'oops', 'enthusiasts', 'continuation', 'heed', 'thinly', 'wiser', 'cock', 'parisian', 'farmers', 'jj', 'hamper', 'novice', 'myriad', 'sydow', 'extension', 'mish', 'underestimate', 'tournament', 'trinity', 'suite', 'backbone', 'freudian', 'cleanse', 'communities', 'gazzara', 'helicopters', 'republican', 'strangler', 'idealism', 'cleese', 'precision', 'autistic', 'guerrilla', 'electrify', 'eg', 'masculine', 'ingredient', 'inconsequential', 'pov', 'tighten', 'progressive', 'pedro', 'yankee', 'uncertainty', 'component', 'fictitious', 'hillbilly', 'guidance', 'sen', 'adept', 'archaeologist', 'unstoppable', 'perpetrate', 'haze', 'lyle', 'neon', 'probe', 'irreverent', 'progressively', 'th', 'cooler', 'luscious', 'wilde', 'mis', 'ably', 'lana', 'shemp', 'assort', 'myths', 'lassie', 'effeminate', 'griffin', 'graphically', 'loach', 'bribe', 'metaphysical', 'implant', '42', 'tempest', 'ditto', 'guise', '180', 'willard', 'connelly', 'astute', 'dice', 'civilize', 'abbot', 'costello', 'chin', 'unwittingly', 'outbursts', 'intellectuals', 'keira', 'preparation', '1922', 'invincible', 'jaffe', 'goddess', 'ironside', 'tragically', 'professionally', 'culp', 'instrumental', 'entity', 'whoa', 'outweigh', 'wizards', 'glamour', 'respectful', 'formal', 'pryor', 'virgins', 'swat', 'tribulations', 'demographic', 'tilt', 'glove', 'shearer', 'barb', 'tot', 'farcical', 'unsatisfied', 'fidelity', '”', 'risky', 'retread', 'sfx', 'simplest', 'democratic', 'synchronize', 'anders', 'midway', 'townsfolk', 'smallville', 'combo', 'saura', 'rapists', 'thematic', 'nc', 'shawshank', 'picker', '5th', 'watchers', 'amos', 'mobsters', 'compulsive', 'andie', '6th', 'borg', 'kaye', 'razzie', 'bureau', 'coherence', 'eldest', 'bunker', 'personify', 'prophetic', 'dour', 'hutton', 'rory', 'soooo', 'hike', 'liken', 'creed', 'software', 'sickly', 'wolfman', 'losses', 'purposely', 'orwell', 'northwest', 'unlock', 'groovy', 'dressler', 'assumption', 'abhay', 'bloat', 'nixon', 'wodehouse', 'slit', 'mordrid', 'lynn', 'rancid', 'varma', 'berkowitz', 'orca', 'thrive', 'roland', 'grindhouse', 'emotionless', 'heres', 'patrol', 'arabic', 'soften', 'romy', 'hippy', 'flatter', 'burstyn', 'leone', 'inventor', 'throwback', 'yup', 'jab', 'fearless', 'elusive', 'institute', '1928', 'ail', 'jeopardy', 'frolic', 'literate', 'tout', 'evocative', 'mysticism', 'darryl', 'moran', 'reginald', 'joyce', 'hypocrisy', 'snicker', 'anal', 'riley', 'caption', 'heartily', 'copyright', 'stratton', 'rao', 'organic', 'external', 'dispense', 'ant', 'ana', '84', 'income', 'gunfire', 'newspapers', 'vu', 'capabilities', 'miners', 'aditya', 'clarify', 'serviceable', 'sardonic', 'bullock', 'regulars', 'speakers', 'trey', 'belgium', 'mystic', 'grandeur', 'fenton', 'brute', 'hilt', 'humane', 'noticeably', 'nuke', 'footlight', 'tristan', 'afterlife', 'akira', 'arrows', 'puerile', 'berate', 'trait', 'grit', 'behaviors', 'anatomy', 'peasant', 'slant', 'discourage', 'addictive', 'permanently', 'frodo', 'cuckoo', 'gil', 'devilish', 'buffoon', 'poorest', 'folklore', 'ploy', 'epidemic', 'browse', 'ching', 'capitalist', 'salute', 'roscoe', 'puddle', 'proposition', 'effectiveness', 'powder', 'perky', 'personnel', 'sesame', 'suspicions', 'metaphors', 'engulf', 'boone', 'refugee', 'schindler', 'morton', 'noirs', 'plaster', 'kipling', 'kali', 'undeniable', 'stereo', 'consumption', 'reflections', 'heyday', 'delude', 'devos', 'filmic', 'teller', 'magnum', 'idle', 'wildlife', 'spectator', 'juicy', 'tickle', 'kiki', 'abigail', 'immortality', 'intentioned', '34', 'squeamish', 'moods', 'deftly', 'governments', 'earthquake', 'todesking', 'bra', 'troupe', 'iago', 'punks', 'consciously', 'venom', 'fuse', 'gandalf', 'skillfully', 'fateful', 'fez', 'pretensions', 'saber', 'wtc', 'operations', 'bizarrely', 'compilation', 'geraldine', 'hottie', 'whomever', 'emergency', '65', 'nasa', 'philippe', 'picturesque', 'sheedy', 'majestic', 'rudy', 'incessant', 'err', 'earp', 'resourceful', 'obligation', 'attackers', 'gwynne', 'richer', 'insomniac', 'flute', 'porky', 'cigarettes', 'alamo', 'pym', 'gospel', 'mockumentary', 'eighty', 'schizophrenic', 'calibre', 'bradford', 'mc', 'flap', 'gutter', 'peg', 'concrete', 'carlisle', 'disk', 'fisted', 'gunfight', 'robocop', 'yadda', 'dicaprio', '97', 'fork', 'swarm', 'stepfather', 'graceful', 'chimp', 'panel', 'purport', 'fumble', 'hog', 'paresh', 'heflin', 'robby', 'chubby', 'cannibalism', 'thornton', 'mansfield', 'ponderous', 'crab', 'rosanna', 'radioactive', 'savvy', 'innovation', 'frail', 'beginnings', 'laundry', 'verbally', 'stutter', 'miniature', 'bloodthirsty', 'quotable', 'caribbean', 'aggravate', 'homo', 'ca', 'rumour', 'pony', 'danza', 'elisabeth', 'bound', 'singular', 'sympathise', 'supporter', 'gambler', 'strangelove', 'superpowers', 'consent', 'wheeler', 'carroll', 'grable', 'naturalistic', 'suburbia', 'enforcement', 'backward', 'palsy', 'duchess', 'bronx', 'dangle', 'excerpt', 'poirot', 'adversity', 'gameplay', 'columbine', 'rediscover', 'dino', 'mistreat', 'mutilation', 'policies', 'gail', 'commenter', 'unpretentious', 'commentators', 'scalise', 'brothel', 'committee', 'fantastical', 'buttgereit', 'arrangements', 'whodunit', 'vulgarity', 'blackadder', 'bewitch', 'envelope', 'bead', 'seaside', 'resign', 'connecticut', 'wickedly', 'englishman', 'curtiz', 'marina', 'carefree', 'goons', 'prowl', 'ozzy', 'terrain', 'blurry', 'pills', 'presley', 'denominator', 'goldsmith', 'protector', 'binder', 'mesh', 'incomplete', 'easiest', 'lupino', 'falcon', 'thematically', 'comically', 'avenger', 'partnership', 'doolittle', 'juxtapose', 'nominee', 'actively', 'getaway', 'orchestrate', 'intervention', 'convenience', 'terminal', 'patriot', 'futile', 'pervasive', 'renegade', 'revert', 'homophobic', 'tragedies', 'diva', 'vincente', 'shane', 'applegate', '79', 'munro', '29', 'criteria', 'knoxville', 'cub', 'lillian', 'gabe', 'maher', 'delon', 'advert', 'simone', 'injuries', 'courtney', 'contemporaries', 'pows', 'womanize', 'haphazard', 'audiard', 'brass', 'denholm', 'bunuel', 'darkwolf', 'josie', 'toast', 'soil', 'yuzna', 'contradiction', 'tornado', 'breezy', 'meld', 'omega', 'pluck', 'ingenuity', 'kelso', 'stratten', 'tub', 'perdition', 'merchandise', 'floyd', 'fireplace', 'suburbs', 'trifle', 'mastery', 'trish', 'dominant', 'editors', 'enforce', 'sufficiently', 'lengths', 'displeasure', 'foolishly', 'goose', 'tintin', 'nash', 'oral', 'clinton', 'landlord', 'kattan', 'extravagant', 'medal', 'waist', 'levin', 'percentage', 'cane', 'criterion', 'affluent', 'ambush', 'cobra', 'hanson', 'calamity', 'herein', 'ineptitude', 'sewer', 'yvonne', 'outsiders', 'reincarnate', 'leonardo', 'blunder', 'haul', 'chad', 'wimp', 'mushroom', 'thankless', 'vipul', 'vikings', 'nevada', 'webster', 'charley', 'haggard', 'dependent', 'eclipse', 'bandit', 'disposal', 'vernon', 'milverton', 'hallways', 'moses', 'payment', 'yo', 'surfer', 'graffiti', 'hideously', 'raggedy', 'slutty', 'wimpy', 'knightly', 'panties', 'parsifal', 'assumptions', 'syndicate', 'mechanics', 'stall', 'invisibility', 'liven', 'afro', 'yada', 'breckinridge', 'deus', 'ineffective', 'maddy', 'hicks', 'kari', 'nada', 'dyer', 'domergue', 'hallam', 'palermo', 'storyteller', 'snob', 'vixen', 'fictionalize', 'talkies', 'anakin', 'invoke', 'horseback', 'manhood', 'accustom', 'fists', 'hewitt', 'submission', 'eileen', 'argentina', 'oblige', 'activist', 'pipe', 'debts', 'prominently', 'veronika', 'misadventures', 'austrian', 'digger', 'bozz', 'dudes', 'burlesque', 'shia', 'franz', 'flawlessly', 'contributions', 'ming', 'congress', 'comprehension', 'rumble', 'dumbed', 'immune', 'ott', 'bethany', 'loggia', 'oppression', 'electronics', 'trance', 'definately', 'mumbo', 'pander', 'yakuza', 'guzman', 'goody', 'slang', 'infiltrate', 'youths', 'dismember', 'kitsch', 'testify', 'stylistically', 'absurdly', 'uneventful', 'acquaintance', 'disconcert', 'gleason', 'intolerance', 'overthrow', 'callous', 'maltin', 'bafta', 'boman', 'irani', 'lecherous', 'toolbox', 'worldly', 'deprave', 'herring', 'scout', 'dialect', 'perpetually', 'frailty', 'believably', 'fringe', 'rattle', 'rene', 'tautou', 'judi', 'raimi', 'biographical', 'afi', 'sierra', 'cotton', 'burtynsky', 'pillow', 'meatball', 'journalism', 'softcore', 'bombastic', 'grocery', 'nadia', 'colonies', 'pretension', '47', 'solidly', '89', 'backstory', 'admirers', 'depravity', 'ignite', 'junkie', 'obey', 'pa', 'susannah', 'urinate', 'mona', 'pollution', 'matinée', 'counterpoint', 'mayer', 'jonestown', 'dreamworks', 'tan', 'ramon', 'trainer', 'dc', 'liv', 'illinois', 'chinatown', 'spinster', 'beauties', 'godmother', 'wrist', 'cleverness', 'truffaut', 'brigitte', 'pickpocket', 'merchant', 'dual', 'lulu', 'ark', 'heroines', 'gump', 'lohan', 'hazel', 'becky', 'showgirls', 'torso', 'narratives', 'doe', 'cromwell', 'mishaps', 'shelly', 'legged', 'luminous', 'doze', 'pollute', 'goodnight', 'passages', 'rom', 'afterthought', 'ripe', 'reproduce', 'caan', 'pic', 'everyman', 'sultry', 'inbred', 'additions', 'offenders', 'fondly', 'col', 'thrash', 'crotch', 'egan', 'derail', 'vocabulary', 'religions', 'permission', 'categorize', 'furnish', 'dunno', 'abbey', 'verve', 'machinations', 'orbit', 'journalists', 'grisby', 'moto', 'relegate', 'heterosexual', 'testimony', 'explicitly', 'staden', 'mcnally', 'impossibly', 'renny', 'problematic', 'subjective', 'eighth', 'advertisements', 'obsolete', 'fridge', 'janine', 'jeanette', 'mommy', 'ubiquitous', 'excessively', 'nostril', '71', 'gullible', 'writhe', 'visionary', 'wyatt', 'weaken', 'xica', 'tyson', 'bubba', 'feminism', 'rican', 'memorize', 'satirize', 'moustache', 'lurch', 'neve', 'peet', 'wag', 'ricardo', 'noisy', 'digitally', 'moonwalker', 'glimmer', 'mahatma', 'rajpal', 'comatose', 'carbon', 'lesbianism', 'gel', 'delta', 'fatally', 'herald', 'trunk', 'hellman', 'underwhelming', 'lest', 'akshaye', 'grandiose', 'bloodless', 'miraculous', 'maze', 'dna', 'superimpose', 'attachment', 'hermann', 'goodfellas', 'genitals', 'dibiase', 'sociopath', 'timer', 'domain', 'thespian', 'dourif', 'someones', 'frosty', 'mukhsin', 'legally', 'ww', 'yuppie', 'mercury', 'noel', 'giamatti', 'kirkland', 'disrespectful', 'modine', 'rudolph', 'smother', 'harmon', 'scroll', 'wwf', 'raider', 'rochon', 'weisz', 'rockwell', 'toddler', 'farrelly', 'omg', 'quartet', 'russel', 'catalogue', 'stallion', 'misfit', 'seminal', 'oakland', 'sideways', 'confessions', 'reconciliation', 'khanna', 'detect', 'refreshingly', 'freshness', 'responses', 'hardship', 'farther', 'cybill', 'jonny', '36', 'elude', 'deter', 'ness', 'graduation', 'cargo', 'repulsion', 'chico', 'strathairn', 'stuntman', 'challenger', 'mph', 'televise', 'brisk', 'woronov', 'demi', 'appetite', 'utmost', 'trench', 'greenwood', 'lon', 'insect', 'darlene', 'deceit', 'radiant', 'falter', 'itch', 'chopra', 'unnoticed', 'sharif', 'autobiographical', 'togar', 'resentment', 'jayne', 'stifle', 'antidote', 'gals', '76', 'trappings', 'heaton', 'sculpture', 'epilogue', 'ida', 'vancouver', 'thou', 'dien', 'palatable', 'francois', 'solitary', 'kiddies', 'quincy', 'mystify', 'alias', 'advancement', 'constance', 'caucasian', 'discredit', 'stifler', 'forewarn', 'pupils']\n"
     ]
    }
   ],
   "source": [
    "topwords = [word for word, _ in voca.most_common(10000)]\n",
    "print([w for w in topwords if w not in stopwords[:20]])"
   ]
  },
  {
   "cell_type": "markdown",
   "metadata": {
    "nbpresent": {
     "id": "9d86b026-19b4-47e1-a693-88f434dfb59e"
    }
   },
   "source": [
    "### Vectorizer\n",
    "\n",
    "For this section, we will try two ways to do vectorization: **BoW** (1-gram) and **BoW with Tfidf Transformer**."
   ]
  },
  {
   "cell_type": "code",
   "execution_count": 19,
   "metadata": {
    "ExecuteTime": {
     "end_time": "2022-08-24T17:05:44.944623Z",
     "start_time": "2022-08-24T17:05:44.938566Z"
    },
    "nbpresent": {
     "id": "02fe7ca4-bcdf-4dc3-a066-4def28483597"
    }
   },
   "outputs": [],
   "source": [
    "from sklearn.feature_extraction.text import (\n",
    "    CountVectorizer, \n",
    "    TfidfTransformer, \n",
    "    TfidfVectorizer,)"
   ]
  },
  {
   "cell_type": "code",
   "execution_count": 20,
   "metadata": {
    "ExecuteTime": {
     "end_time": "2022-08-24T17:05:47.311482Z",
     "start_time": "2022-08-24T17:05:47.298881Z"
    },
    "nbpresent": {
     "id": "eb6794ac-150b-41a7-8b7d-2e9934db9d74"
    }
   },
   "outputs": [
    {
     "data": {
      "text/plain": [
       "CountVectorizer()"
      ]
     },
     "execution_count": 20,
     "metadata": {},
     "output_type": "execute_result"
    }
   ],
   "source": [
    "CountVectorizer()"
   ]
  },
  {
   "cell_type": "markdown",
   "metadata": {
    "nbpresent": {
     "id": "6c003f7f-2a78-47a2-ada2-a212f75b6517"
    }
   },
   "source": [
    "### Tf–idf Transformer"
   ]
  },
  {
   "cell_type": "markdown",
   "metadata": {
    "nbpresent": {
     "id": "6e37f508-9785-4250-a1e1-1354dfcff4c2"
    }
   },
   "source": [
    "- Tf: Term-Frequency\n",
    "- idf: Inverse Document-Frequency\n",
    "- Tf-idf = $tf(t,d) \\times idf(t)$\n",
    "\n",
    "$$\n",
    "idf(t) = log{\\frac{1 + n_d}{1 + df(d, t)}} + 1\n",
    "$$\n",
    "\n",
    "![](http://www.onemathematicalcat.org/Math/Algebra_II_obj/Graphics/log_base_gt1.gif)"
   ]
  },
  {
   "cell_type": "markdown",
   "metadata": {
    "nbpresent": {
     "id": "5f349274-78e7-41be-968b-ca1a4fb80d50"
    }
   },
   "source": [
    "> Sentence 1: The boy **love** the toy <br>\n",
    "> Sentence 2: The boy **hate** the toy"
   ]
  },
  {
   "cell_type": "code",
   "execution_count": 23,
   "metadata": {
    "ExecuteTime": {
     "end_time": "2022-08-24T17:08:42.817000Z",
     "start_time": "2022-08-24T17:08:42.801376Z"
    },
    "nbpresent": {
     "id": "12d18c1c-3899-4ea6-a677-2506a5f1d8a0"
    }
   },
   "outputs": [
    {
     "data": {
      "text/plain": [
       "TfidfTransformer(smooth_idf=False)"
      ]
     },
     "execution_count": 23,
     "metadata": {},
     "output_type": "execute_result"
    }
   ],
   "source": [
    "transformer = TfidfTransformer(smooth_idf=False)\n",
    "transformer"
   ]
  },
  {
   "cell_type": "code",
   "execution_count": 24,
   "metadata": {
    "ExecuteTime": {
     "end_time": "2022-08-24T17:08:44.420766Z",
     "start_time": "2022-08-24T17:08:44.390655Z"
    },
    "nbpresent": {
     "id": "21537231-5ff9-4a7c-a54f-8ed911c88329"
    }
   },
   "outputs": [
    {
     "data": {
      "text/plain": [
       "<6x3 sparse matrix of type '<class 'numpy.float64'>'\n",
       "\twith 9 stored elements in Compressed Sparse Row format>"
      ]
     },
     "execution_count": 24,
     "metadata": {},
     "output_type": "execute_result"
    }
   ],
   "source": [
    "counts = [[3, 0, 1],\n",
    "          [2, 0, 0],\n",
    "          [3, 0, 0],\n",
    "          [4, 0, 0],\n",
    "          [3, 2, 0],\n",
    "          [3, 0, 2]]\n",
    "tfidf = transformer.fit_transform(counts)\n",
    "tfidf"
   ]
  },
  {
   "cell_type": "code",
   "execution_count": 25,
   "metadata": {
    "ExecuteTime": {
     "end_time": "2022-08-24T17:08:47.712579Z",
     "start_time": "2022-08-24T17:08:47.703155Z"
    },
    "nbpresent": {
     "id": "90c1cbe3-c5b2-4e80-8c88-4f0ec45b2e8a"
    }
   },
   "outputs": [
    {
     "data": {
      "text/plain": [
       "array([[0.81940995, 0.        , 0.57320793],\n",
       "       [1.        , 0.        , 0.        ],\n",
       "       [1.        , 0.        , 0.        ],\n",
       "       [1.        , 0.        , 0.        ],\n",
       "       [0.47330339, 0.88089948, 0.        ],\n",
       "       [0.58149261, 0.        , 0.81355169]])"
      ]
     },
     "execution_count": 25,
     "metadata": {},
     "output_type": "execute_result"
    }
   ],
   "source": [
    "tfidf.toarray()"
   ]
  },
  {
   "cell_type": "markdown",
   "metadata": {
    "nbpresent": {
     "id": "a8bae77b-721c-4fa6-a10b-051574086736"
    }
   },
   "source": [
    "<span style=\"color:red\">**Tips:**</span>\n",
    "\n",
    "tf-idfs are computed slightly different in sklearn, where:\n",
    "\n",
    "$$\n",
    "idf(t) = log{\\frac{n_d}{1 + df(d, t)}}\n",
    "$$\n",
    "\n",
    "With `smooth_idf=True` set to `True`, the formula is:\n",
    "\n",
    "$$\n",
    "idf(t) = log{\\frac{n_d}{df(d, t)}} + 1\n",
    "$$\n",
    "\n",
    "\n",
    "It's always worth trying tfidf transformer for text classification problem. Since `CountVectorizer` and `TfidTransformer` are often chained together, sklearn also provide a class that combines the two steps together: `TfidfVectorizer`."
   ]
  },
  {
   "cell_type": "code",
   "execution_count": 26,
   "metadata": {
    "ExecuteTime": {
     "end_time": "2022-08-24T17:09:31.779461Z",
     "start_time": "2022-08-24T17:09:31.768229Z"
    },
    "nbpresent": {
     "id": "e07ae14e-e1e8-4bcd-8986-da2d14b2d3ba"
    }
   },
   "outputs": [
    {
     "data": {
      "text/plain": [
       "TfidfVectorizer()"
      ]
     },
     "execution_count": 26,
     "metadata": {},
     "output_type": "execute_result"
    }
   ],
   "source": [
    "TfidfVectorizer()"
   ]
  },
  {
   "cell_type": "markdown",
   "metadata": {},
   "source": [
    "Let's take the sentences from the slide as an example:"
   ]
  },
  {
   "cell_type": "code",
   "execution_count": 28,
   "metadata": {
    "ExecuteTime": {
     "end_time": "2022-08-24T17:13:34.702126Z",
     "start_time": "2022-08-24T17:13:34.696615Z"
    },
    "nbpresent": {
     "id": "a396d14b-1f38-44db-b25f-d457fe3998a7"
    }
   },
   "outputs": [],
   "source": [
    "t_corpus = ['the boy love the toy', 'the boy hate the toy']"
   ]
  },
  {
   "cell_type": "code",
   "execution_count": 29,
   "metadata": {
    "ExecuteTime": {
     "end_time": "2022-08-24T17:13:35.499460Z",
     "start_time": "2022-08-24T17:13:35.480094Z"
    }
   },
   "outputs": [
    {
     "data": {
      "text/plain": [
       "array([[1, 0, 1, 2, 1],\n",
       "       [1, 1, 0, 2, 1]])"
      ]
     },
     "execution_count": 29,
     "metadata": {},
     "output_type": "execute_result"
    }
   ],
   "source": [
    "# Bag of words\n",
    "# Voc = ['boy', 'hate', 'love', 'the', 'toy']\n",
    "\n",
    "t_cnt_vec = CountVectorizer()\n",
    "t_cnt_vec.fit(' '.join(t_corpus).split())\n",
    "t_cnt_vec.transform(t_corpus).toarray()"
   ]
  },
  {
   "cell_type": "code",
   "execution_count": 30,
   "metadata": {
    "ExecuteTime": {
     "end_time": "2022-08-24T17:13:36.925509Z",
     "start_time": "2022-08-24T17:13:36.909912Z"
    },
    "nbpresent": {
     "id": "a2e931ef-7434-4014-9f09-57a2b684f6d5"
    }
   },
   "outputs": [
    {
     "data": {
      "text/plain": [
       "array([[0.41508858, 0.        , 0.48828702, 0.6457389 , 0.41508858],\n",
       "       [0.41508858, 0.48828702, 0.        , 0.6457389 , 0.41508858]])"
      ]
     },
     "execution_count": 30,
     "metadata": {},
     "output_type": "execute_result"
    }
   ],
   "source": [
    "# Tfidf\n",
    "t_tfidf_vec = TfidfVectorizer()\n",
    "t_tfidf_vec.fit(' '.join(t_corpus).split())\n",
    "t_tfidf_vec.transform(t_corpus).toarray()"
   ]
  },
  {
   "cell_type": "markdown",
   "metadata": {
    "nbpresent": {
     "id": "ee88a760-c8c0-4c21-92b0-bc6235086445"
    }
   },
   "source": [
    "### Vectorization / Featurization"
   ]
  },
  {
   "cell_type": "code",
   "execution_count": 31,
   "metadata": {
    "ExecuteTime": {
     "end_time": "2022-08-24T17:13:39.293248Z",
     "start_time": "2022-08-24T17:13:39.282498Z"
    }
   },
   "outputs": [],
   "source": [
    "train_x, train_y = train['text_prep'], train['sentiment']\n",
    "test_x, test_y = test['text_prep'], test['sentiment']"
   ]
  },
  {
   "cell_type": "code",
   "execution_count": 32,
   "metadata": {
    "ExecuteTime": {
     "end_time": "2022-08-24T17:13:40.076233Z",
     "start_time": "2022-08-24T17:13:40.070951Z"
    },
    "nbpresent": {
     "id": "7c6f787e-5013-466a-869d-bf4b76f681e9"
    }
   },
   "outputs": [],
   "source": [
    "# Use topwords as vocabulary\n",
    "tf_vec = TfidfVectorizer(vocabulary=topwords)"
   ]
  },
  {
   "cell_type": "code",
   "execution_count": 33,
   "metadata": {
    "ExecuteTime": {
     "end_time": "2022-08-24T17:13:44.331150Z",
     "start_time": "2022-08-24T17:13:40.772441Z"
    },
    "nbpresent": {
     "id": "64ba5bc9-96ea-4829-8a7e-cf5d01781087"
    }
   },
   "outputs": [],
   "source": [
    "train_features = tf_vec.fit_transform(train_x)\n",
    "test_features = tf_vec.transform(test_x)"
   ]
  },
  {
   "cell_type": "code",
   "execution_count": 34,
   "metadata": {
    "ExecuteTime": {
     "end_time": "2022-08-24T17:13:44.334466Z",
     "start_time": "2022-08-24T17:13:44.332486Z"
    },
    "nbpresent": {
     "id": "71abd6d5-05a7-4075-bd7a-f49a07d2f1d7"
    }
   },
   "outputs": [],
   "source": [
    "assert train_features.shape == (25000, 10000)\n",
    "assert test_features.shape == (25000, 10000)"
   ]
  },
  {
   "cell_type": "code",
   "execution_count": 35,
   "metadata": {
    "ExecuteTime": {
     "end_time": "2022-08-24T17:13:44.338571Z",
     "start_time": "2022-08-24T17:13:44.335216Z"
    }
   },
   "outputs": [
    {
     "data": {
      "text/plain": [
       "array([[0.       , 0.1287998, 0.       , ..., 0.       , 0.       ,\n",
       "        0.       ]])"
      ]
     },
     "execution_count": 35,
     "metadata": {},
     "output_type": "execute_result"
    }
   ],
   "source": [
    "train_features[0][:50].toarray()"
   ]
  },
  {
   "cell_type": "markdown",
   "metadata": {
    "nbpresent": {
     "id": "4ecfbfb7-9b24-499f-a4b4-087e3183b7ee"
    }
   },
   "source": [
    "## Training\n",
    "\n",
    "### [Multinomial NB](http://scikit-learn.org/stable/modules/generated/sklearn.naive_bayes.MultinomialNB.html)\n",
    "\n",
    "The multinomial Naive Bayes classifier is suitable for **classification with discrete features** (e.g., word counts for text classification). The multinomial distribution normally requires integer feature counts. However, in practice, fractional counts such as tf-idf may also work."
   ]
  },
  {
   "cell_type": "code",
   "execution_count": 27,
   "metadata": {
    "ExecuteTime": {
     "end_time": "2022-08-24T17:13:25.401989Z",
     "start_time": "2022-08-24T17:13:25.383075Z"
    },
    "nbpresent": {
     "id": "eef54d8f-0863-4285-bf5a-fa301dff8678"
    }
   },
   "outputs": [],
   "source": [
    "from sklearn.naive_bayes import MultinomialNB"
   ]
  },
  {
   "cell_type": "code",
   "execution_count": 36,
   "metadata": {
    "ExecuteTime": {
     "end_time": "2022-08-24T17:18:47.736371Z",
     "start_time": "2022-08-24T17:18:47.721683Z"
    },
    "nbpresent": {
     "id": "08172515-7b9a-4a38-967b-fcea2ac03b4b"
    }
   },
   "outputs": [
    {
     "data": {
      "text/plain": [
       "MultinomialNB()"
      ]
     },
     "execution_count": 36,
     "metadata": {},
     "output_type": "execute_result"
    }
   ],
   "source": [
    "mnb_model = MultinomialNB()\n",
    "mnb_model"
   ]
  },
  {
   "cell_type": "code",
   "execution_count": 37,
   "metadata": {
    "ExecuteTime": {
     "end_time": "2022-08-24T17:18:49.816917Z",
     "start_time": "2022-08-24T17:18:49.701072Z"
    },
    "nbpresent": {
     "id": "2e1f0988-c008-441d-a60a-797620243dce"
    }
   },
   "outputs": [
    {
     "name": "stdout",
     "output_type": "stream",
     "text": [
      "CPU times: user 81.7 ms, sys: 19.8 ms, total: 101 ms\n",
      "Wall time: 108 ms\n"
     ]
    },
    {
     "data": {
      "text/plain": [
       "MultinomialNB()"
      ]
     },
     "execution_count": 37,
     "metadata": {},
     "output_type": "execute_result"
    }
   ],
   "source": [
    "%%time\n",
    "\n",
    "# Train Model\n",
    "mnb_model.fit(train_features, train_y)"
   ]
  },
  {
   "cell_type": "markdown",
   "metadata": {},
   "source": [
    "## Evaluation"
   ]
  },
  {
   "cell_type": "code",
   "execution_count": 38,
   "metadata": {
    "ExecuteTime": {
     "end_time": "2022-08-24T17:18:53.418682Z",
     "start_time": "2022-08-24T17:18:53.413226Z"
    }
   },
   "outputs": [],
   "source": [
    "from sklearn import metrics"
   ]
  },
  {
   "cell_type": "code",
   "execution_count": 39,
   "metadata": {
    "ExecuteTime": {
     "end_time": "2022-08-24T17:18:55.008970Z",
     "start_time": "2022-08-24T17:18:54.959133Z"
    },
    "nbpresent": {
     "id": "f1a1e3f4-225f-4a59-ab02-82c874289bb1"
    }
   },
   "outputs": [
    {
     "name": "stdout",
     "output_type": "stream",
     "text": [
      "['neg' 'pos' 'pos' ... 'neg' 'neg' 'neg']\n"
     ]
    }
   ],
   "source": [
    "# Predict on test set\n",
    "pred = mnb_model.predict(test_features)\n",
    "print(pred)"
   ]
  },
  {
   "cell_type": "code",
   "execution_count": 40,
   "metadata": {
    "ExecuteTime": {
     "end_time": "2022-08-24T17:18:57.084016Z",
     "start_time": "2022-08-24T17:18:57.005263Z"
    },
    "nbpresent": {
     "id": "42e5eacf-8353-47df-93db-72ebe1a713a8"
    }
   },
   "outputs": [
    {
     "name": "stdout",
     "output_type": "stream",
     "text": [
      "Accuracy: 0.833000\n"
     ]
    }
   ],
   "source": [
    "print('Accuracy: %f' % metrics.accuracy_score(pred,test_y))"
   ]
  },
  {
   "cell_type": "markdown",
   "metadata": {},
   "source": [
    "<span style=\"color:red\">**Tips:**</span>\n",
    "\n",
    "It doesn't matter if you change the order of `pred` and `test_y` passed into `accuracy_score` since the metrics is symmetric. **However**, it is extremely important that you pass them in the correct order when you need to calculate per-class metrics like f-score."
   ]
  },
  {
   "cell_type": "code",
   "execution_count": 41,
   "metadata": {
    "ExecuteTime": {
     "end_time": "2022-08-24T17:19:05.636248Z",
     "start_time": "2022-08-24T17:19:05.063884Z"
    },
    "nbpresent": {
     "id": "1dc8a4ad-96e4-41f3-aeda-446c0799c0da"
    }
   },
   "outputs": [
    {
     "name": "stdout",
     "output_type": "stream",
     "text": [
      "              precision    recall  f1-score   support\n",
      "\n",
      "         neg       0.81      0.87      0.84     12500\n",
      "         pos       0.86      0.80      0.83     12500\n",
      "\n",
      "    accuracy                           0.83     25000\n",
      "   macro avg       0.83      0.83      0.83     25000\n",
      "weighted avg       0.83      0.83      0.83     25000\n",
      "\n"
     ]
    }
   ],
   "source": [
    "# Pass in as keyword arguments to make sure the order is correct\n",
    "print(\n",
    "    metrics.classification_report(y_true=test_y, y_pred=pred))"
   ]
  },
  {
   "cell_type": "code",
   "execution_count": 42,
   "metadata": {
    "ExecuteTime": {
     "end_time": "2022-08-24T17:19:07.351504Z",
     "start_time": "2022-08-24T17:19:07.333820Z"
    },
    "nbpresent": {
     "id": "fcf0efe6-291b-4d03-a7d1-2ec665279f1e"
    }
   },
   "outputs": [
    {
     "name": "stdout",
     "output_type": "stream",
     "text": [
      "              precision    recall  f1-score   support\n",
      "\n",
      "     class 0       0.50      1.00      0.67         1\n",
      "     class 1       0.00      0.00      0.00         1\n",
      "     class 2       1.00      0.67      0.80         3\n",
      "\n",
      "    accuracy                           0.60         5\n",
      "   macro avg       0.50      0.56      0.49         5\n",
      "weighted avg       0.70      0.60      0.61         5\n",
      "\n"
     ]
    }
   ],
   "source": [
    "# Example from sklearn documentation\n",
    "\n",
    "y_true = [0, 1, 2, 2, 2]\n",
    "y_pred = [0, 0, 2, 2, 1]\n",
    "target_names = ['class 0', 'class 1', 'class 2']\n",
    "print(metrics.classification_report(y_true, y_pred, target_names=target_names))"
   ]
  },
  {
   "cell_type": "markdown",
   "metadata": {
    "nbpresent": {
     "id": "1bcd8bdb-bdb9-401a-b9ce-e29ccc320f83"
    }
   },
   "source": [
    "## Predict new text"
   ]
  },
  {
   "cell_type": "code",
   "execution_count": 43,
   "metadata": {
    "ExecuteTime": {
     "end_time": "2022-08-24T17:19:10.124641Z",
     "start_time": "2022-08-24T17:19:10.116182Z"
    },
    "nbpresent": {
     "id": "1c0addbf-c65c-4d4a-89aa-fab535a72d35"
    }
   },
   "outputs": [],
   "source": [
    "def predict_new(prep_func,  # func for preprocessing\n",
    "                vec,        # vectorizer\n",
    "                model,      # model\n",
    "                text):      # text\n",
    "    \n",
    "    prep_text = prep_func(text)\n",
    "    features = vec.transform([prep_text])\n",
    "    pred = model.predict(features)\n",
    "    return pred[0]"
   ]
  },
  {
   "cell_type": "code",
   "execution_count": 44,
   "metadata": {
    "ExecuteTime": {
     "end_time": "2022-08-24T17:19:11.360327Z",
     "start_time": "2022-08-24T17:19:11.350104Z"
    }
   },
   "outputs": [],
   "source": [
    "from functools import partial\n",
    "\n",
    "predict_new_p1 = partial(predict_new, preprocessing, tf_vec, mnb_model)"
   ]
  },
  {
   "cell_type": "code",
   "execution_count": 45,
   "metadata": {
    "ExecuteTime": {
     "end_time": "2022-08-24T17:19:13.743392Z",
     "start_time": "2022-08-24T17:19:13.727389Z"
    },
    "nbpresent": {
     "id": "609df79f-52c5-42af-b849-e745afa397f7"
    }
   },
   "outputs": [
    {
     "data": {
      "text/plain": [
       "'pos'"
      ]
     },
     "execution_count": 45,
     "metadata": {},
     "output_type": "execute_result"
    }
   ],
   "source": [
    "predict_new_p1('It looks nice')"
   ]
  },
  {
   "cell_type": "markdown",
   "metadata": {
    "nbpresent": {
     "id": "5ae16efd-71c1-4465-a247-33af0bb9246a"
    }
   },
   "source": [
    "## Tunning hyper parameters"
   ]
  },
  {
   "cell_type": "code",
   "execution_count": 46,
   "metadata": {
    "ExecuteTime": {
     "end_time": "2022-08-24T17:19:20.827818Z",
     "start_time": "2022-08-24T17:19:20.816165Z"
    },
    "nbpresent": {
     "id": "2d652ee5-fbc8-489b-8003-a79bd96d23db"
    }
   },
   "outputs": [],
   "source": [
    "def train_with_n_topwords(n: int, tfidf=False) -> tuple:\n",
    "    \"\"\"\n",
    "    Train and get the accuracy with different model settings\n",
    "    Args:\n",
    "        n: number of features (top frequent words in the vocabulary)\n",
    "        tfidf: whether do tf-idf re-weighting or not\n",
    "    Outputs:\n",
    "        tuple: (accuracy score, classifier, vectorizer)\n",
    "    \"\"\"\n",
    "    topwords = [word for word, _ in voca.most_common(n)]\n",
    "    \n",
    "    if tfidf:\n",
    "        vec = TfidfVectorizer(vocabulary=topwords)\n",
    "    else:\n",
    "        vec = CountVectorizer(vocabulary=topwords)\n",
    "    \n",
    "    # Generate feature vectors\n",
    "    train_features = vec.fit_transform(train_x)\n",
    "    test_features  = vec.transform(test_x)\n",
    "    \n",
    "    # NB\n",
    "    mnb_model = MultinomialNB()\n",
    "    mnb_model.fit(train_features, train_y)\n",
    "    \n",
    "    # Test predict\n",
    "    pred = mnb_model.predict(test_features)\n",
    "    \n",
    "    return metrics.accuracy_score(pred, test_y), mnb_model, vec"
   ]
  },
  {
   "cell_type": "code",
   "execution_count": 47,
   "metadata": {
    "ExecuteTime": {
     "end_time": "2022-08-24T17:19:27.624559Z",
     "start_time": "2022-08-24T17:19:24.311526Z"
    },
    "nbpresent": {
     "id": "2505b8b5-0bba-4cca-8ba0-93cac0501e3e"
    }
   },
   "outputs": [
    {
     "data": {
      "text/plain": [
       "(0.82516,\n",
       " MultinomialNB(),\n",
       " TfidfVectorizer(vocabulary=['film', 'movie', 'one', 'make', 'like', 'see',\n",
       "                             'get', 'time', 'good', 'character', 'go', 'watch',\n",
       "                             'even', 'would', 'think', 'story', 'really', 'well',\n",
       "                             'show', 'look', 'much', 'say', 'end', 'know',\n",
       "                             'people', 'bad', 'also', 'first', 'great', 'give', ...]))"
      ]
     },
     "execution_count": 47,
     "metadata": {},
     "output_type": "execute_result"
    }
   ],
   "source": [
    "train_with_n_topwords(500, tfidf=True)"
   ]
  },
  {
   "cell_type": "code",
   "execution_count": 48,
   "metadata": {
    "ExecuteTime": {
     "end_time": "2022-08-24T17:21:37.215203Z",
     "start_time": "2022-08-24T17:19:29.266560Z"
    },
    "nbpresent": {
     "id": "1790e0a2-cf5d-45e4-a19a-e24005be2db1"
    }
   },
   "outputs": [
    {
     "data": {
      "application/vnd.jupyter.widget-view+json": {
       "model_id": "18019000a0094deebfd901b40073464d",
       "version_major": 2,
       "version_minor": 0
      },
      "text/plain": [
       "  0%|          | 0/19 [00:00<?, ?it/s]"
      ]
     },
     "metadata": {},
     "output_type": "display_data"
    }
   ],
   "source": [
    "possible_n = [500 * i for i in range(1, 20)]\n",
    "\n",
    "cnt_accuracies = []\n",
    "tfidf_accuracies = []\n",
    "\n",
    "for n in tqdm(possible_n):\n",
    "    cnt_accuracies.append(train_with_n_topwords(n)[0])\n",
    "    tfidf_accuracies.append(train_with_n_topwords(n, tfidf=True)[0])"
   ]
  },
  {
   "cell_type": "code",
   "execution_count": 49,
   "metadata": {
    "ExecuteTime": {
     "end_time": "2022-08-24T17:25:39.537187Z",
     "start_time": "2022-08-24T17:25:39.352598Z"
    },
    "nbpresent": {
     "id": "4cb349db-39ae-4311-8521-1e055907abdd"
    }
   },
   "outputs": [
    {
     "data": {
      "text/plain": [
       "[<matplotlib.lines.Line2D at 0x7fa62e6ee7c0>]"
      ]
     },
     "execution_count": 49,
     "metadata": {},
     "output_type": "execute_result"
    },
    {
     "data": {
      "image/png": "[encoded data removed]",
      "text/plain": [
       "<Figure size 432x288 with 1 Axes>"
      ]
     },
     "metadata": {
      "image/png": {
       "height": 248,
       "width": 384
      },
      "needs_background": "light"
     },
     "output_type": "display_data"
    }
   ],
   "source": [
    "import matplotlib.pyplot as plt\n",
    "%matplotlib inline\n",
    "%config InlineBackend.figure_format='retina'\n",
    "\n",
    "plt.plot(possible_n, cnt_accuracies, label='Word Count')\n",
    "plt.plot(possible_n, tfidf_accuracies, label='Tf-idf')"
   ]
  },
  {
   "cell_type": "markdown",
   "metadata": {
    "nbpresent": {
     "id": "fb560459-df66-41b6-8a64-842622e4aa79"
    }
   },
   "source": [
    "**Expected**:\n",
    "\n",
    "<img src=\"resources/plot.png\" width=\"400\">"
   ]
  },
  {
   "cell_type": "markdown",
   "metadata": {
    "nbpresent": {
     "id": "db997a18-0447-456d-a77f-d0f7a8c0b39a"
    }
   },
   "source": [
    "## Save model"
   ]
  },
  {
   "cell_type": "code",
   "execution_count": 50,
   "metadata": {
    "ExecuteTime": {
     "end_time": "2022-08-24T17:25:46.213912Z",
     "start_time": "2022-08-24T17:25:42.636335Z"
    }
   },
   "outputs": [],
   "source": [
    "_, model, vec = train_with_n_topwords(3000, tfidf=True)"
   ]
  },
  {
   "cell_type": "code",
   "execution_count": 51,
   "metadata": {
    "ExecuteTime": {
     "end_time": "2022-08-24T17:25:46.219309Z",
     "start_time": "2022-08-24T17:25:46.215086Z"
    },
    "nbpresent": {
     "id": "5558a033-1f08-45b4-8abe-ed974d685831"
    }
   },
   "outputs": [],
   "source": [
    "import pickle\n",
    "\n",
    "with open('tf_vec.pkl', 'wb') as fp:\n",
    "    pickle.dump(vec, fp)\n",
    "    \n",
    "with open('mnb_model.pkl', 'wb') as fp:\n",
    "    pickle.dump(model, fp)"
   ]
  },
  {
   "cell_type": "code",
   "execution_count": null,
   "metadata": {},
   "outputs": [],
   "source": []
  }
 ],
 "metadata": {
  "kernelspec": {
   "display_name": "Python 3 (ipykernel)",
   "language": "python",
   "name": "python3"
  },
  "language_info": {
   "codemirror_mode": {
    "name": "ipython",
    "version": 3
   },
   "file_extension": ".py",
   "mimetype": "text/x-python",
   "name": "python",
   "nbconvert_exporter": "python",
   "pygments_lexer": "ipython3",
   "version": "3.9.7"
  }
 },
 "nbformat": 4,
 "nbformat_minor": 4
}
